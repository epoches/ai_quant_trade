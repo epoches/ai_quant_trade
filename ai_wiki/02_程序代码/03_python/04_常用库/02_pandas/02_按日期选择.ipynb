{
 "cells": [
  {
   "cell_type": "code",
   "execution_count": 1,
   "metadata": {
    "collapsed": true
   },
   "outputs": [],
   "source": [
    "# -*- coding: utf-8 -*-\n",
    "# @Author   : liyi\n",
    "# @Time     : 2022/7/5 8:13\n",
    "# @File     : api_tushare_data.py\n",
    "# @Project  : ai_quant_trade\n",
    "# Copyright (c) Personal 2022 liyi\n",
    "# Function Description: select according to data\n",
    "#\n",
    "# Licensed under the Apache License, Version 2.0 (the \"License\");\n",
    "# you may not use this file except in compliance with the License.\n",
    "# You may obtain a copy of the License at\n",
    "#\n",
    "#     http://www.apache.org/licenses/LICENSE-2.0\n",
    "#\n",
    "# Unless required by applicable law or agreed to in writing, software\n",
    "# distributed under the License is distributed on an \"AS IS\" BASIS,\n",
    "# WITHOUT WARRANTIES OR CONDITIONS OF ANY KIND, either express or implied.\n",
    "# See the License for the specific language governing permissions and\n",
    "# limitations under the License."
   ]
  },
  {
   "cell_type": "markdown",
   "source": [
    "# 1. 用日期列作为索引并修改为日期数据类型"
   ],
   "metadata": {
    "collapsed": false,
    "pycharm": {
     "name": "#%% md\n"
    }
   }
  },
  {
   "cell_type": "code",
   "execution_count": 2,
   "outputs": [
    {
     "data": {
      "text/plain": "  Joined date employees\n0  2019-11-20    Hisila\n1  2020-01-02   Shristi\n2  2020-02-05     Zeppy\n3  2020-03-10     Alina\n4  2020-04-16     Jerry\n5  2020-05-01     Kevin",
      "text/html": "<div>\n<style scoped>\n    .dataframe tbody tr th:only-of-type {\n        vertical-align: middle;\n    }\n\n    .dataframe tbody tr th {\n        vertical-align: top;\n    }\n\n    .dataframe thead th {\n        text-align: right;\n    }\n</style>\n<table border=\"1\" class=\"dataframe\">\n  <thead>\n    <tr style=\"text-align: right;\">\n      <th></th>\n      <th>Joined date</th>\n      <th>employees</th>\n    </tr>\n  </thead>\n  <tbody>\n    <tr>\n      <th>0</th>\n      <td>2019-11-20</td>\n      <td>Hisila</td>\n    </tr>\n    <tr>\n      <th>1</th>\n      <td>2020-01-02</td>\n      <td>Shristi</td>\n    </tr>\n    <tr>\n      <th>2</th>\n      <td>2020-02-05</td>\n      <td>Zeppy</td>\n    </tr>\n    <tr>\n      <th>3</th>\n      <td>2020-03-10</td>\n      <td>Alina</td>\n    </tr>\n    <tr>\n      <th>4</th>\n      <td>2020-04-16</td>\n      <td>Jerry</td>\n    </tr>\n    <tr>\n      <th>5</th>\n      <td>2020-05-01</td>\n      <td>Kevin</td>\n    </tr>\n  </tbody>\n</table>\n</div>"
     },
     "execution_count": 2,
     "metadata": {},
     "output_type": "execute_result"
    }
   ],
   "source": [
    "import pandas as pd\n",
    "\n",
    "list_of_dates = ['2019-11-20', '2020-01-02', '2020-02-05',\n",
    "                 '2020-03-10','2020-04-16','2020-05-01']\n",
    "employees=['Hisila', 'Shristi','Zeppy','Alina','Jerry','Kevin']\n",
    "df = pd.DataFrame({'Joined date': list_of_dates, 'employees': employees})\n",
    "df"
   ],
   "metadata": {
    "collapsed": false,
    "pycharm": {
     "name": "#%%\n"
    }
   }
  },
  {
   "cell_type": "code",
   "execution_count": 3,
   "outputs": [
    {
     "name": "stdout",
     "output_type": "stream",
     "text": [
      "<class 'str'>\n",
      "<class 'pandas._libs.tslibs.timestamps.Timestamp'>\n"
     ]
    }
   ],
   "source": [
    "# 将数据类型转换为日期类型\n",
    "print(type(df['Joined date'][0]))\n",
    "df['Joined date'] = pd.to_datetime(df['Joined date'])\n",
    "print(type(df['Joined date'][0]))"
   ],
   "metadata": {
    "collapsed": false,
    "pycharm": {
     "name": "#%%\n"
    }
   }
  },
  {
   "cell_type": "code",
   "execution_count": 4,
   "outputs": [],
   "source": [
    "# （！！！注意：这种方式会引起问题）这样设置索引，会导致索引也有列名\n",
    "# df.index = df['Joined date']\n",
    "# df"
   ],
   "metadata": {
    "collapsed": false,
    "pycharm": {
     "name": "#%%\n"
    }
   }
  },
  {
   "cell_type": "code",
   "execution_count": 5,
   "outputs": [
    {
     "name": "stdout",
     "output_type": "stream",
     "text": [
      "            Joined date employees\n",
      "Joined date                      \n",
      "2019-11-20   2019-11-20    Hisila\n",
      "2020-01-02   2020-01-02   Shristi\n",
      "2020-02-05   2020-02-05     Zeppy\n",
      "2020-03-10   2020-03-10     Alina\n",
      "2020-04-16   2020-04-16     Jerry\n",
      "<class 'pandas.core.indexes.datetimes.DatetimeIndex'>\n"
     ]
    }
   ],
   "source": [
    "# DataFrame.set_index(self, keys, drop=True, append=False, inplace=False, verify_integrity=False)\n",
    "# drop，默认是True，就是直接把column当成index，然后删除column\n",
    "# 将某一列作为索引\n",
    "df=df.set_index('Joined date',drop=False)\n",
    "# 方案2\n",
    "# df.index = df['Joined date']\n",
    "print(df.head())\n",
    "print(type(df.index))"
   ],
   "metadata": {
    "collapsed": false,
    "pycharm": {
     "name": "#%%\n"
    }
   }
  },
  {
   "cell_type": "code",
   "execution_count": 6,
   "outputs": [],
   "source": [
    "# （会报错）如果想使用回默认的序列，则重置索引\n",
    "# df.reset_index(inplace=True)"
   ],
   "metadata": {
    "collapsed": false,
    "pycharm": {
     "name": "#%%\n"
    }
   }
  },
  {
   "cell_type": "markdown",
   "source": [
    "# 2. 按照年份进行选择和过滤"
   ],
   "metadata": {
    "collapsed": false,
    "pycharm": {
     "name": "#%% md\n"
    }
   }
  },
  {
   "cell_type": "code",
   "execution_count": 7,
   "outputs": [
    {
     "name": "stdout",
     "output_type": "stream",
     "text": [
      "获取2019的数据\n",
      "             Joined date employees\n",
      "Joined date                      \n",
      "2019-11-20   2019-11-20    Hisila\n",
      "\n",
      "获取2019-2020的数据\n",
      "             Joined date employees\n",
      "Joined date                      \n",
      "2019-11-20   2019-11-20    Hisila\n",
      "2020-01-02   2020-01-02   Shristi\n",
      "2020-02-05   2020-02-05     Zeppy\n",
      "2020-03-10   2020-03-10     Alina\n",
      "2020-04-16   2020-04-16     Jerry\n",
      "2020-05-01   2020-05-01     Kevin\n"
     ]
    },
    {
     "name": "stderr",
     "output_type": "stream",
     "text": [
      "<ipython-input-7-13dcdc2eef48>:2: FutureWarning: Indexing a DataFrame with a datetimelike index using a single string to slice the rows, like `frame[string]`, is deprecated and will be removed in a future version. Use `frame.loc[string]` instead.\n",
      "  print('获取2019的数据\\n', df['2019'])\n"
     ]
    }
   ],
   "source": [
    "# 获取2019的数据\n",
    "print('获取2019的数据\\n', df['2019'])\n",
    "# below will be removed in future, not use\n",
    "print('\\n获取2019-2020的数据\\n', df['2019':'2020'])"
   ],
   "metadata": {
    "collapsed": false,
    "pycharm": {
     "name": "#%%\n"
    }
   }
  },
  {
   "cell_type": "code",
   "execution_count": 8,
   "outputs": [
    {
     "data": {
      "text/plain": "            Joined date employees\nJoined date                      \n2019-11-20   2019-11-20    Hisila\n2020-01-02   2020-01-02   Shristi\n2020-02-05   2020-02-05     Zeppy",
      "text/html": "<div>\n<style scoped>\n    .dataframe tbody tr th:only-of-type {\n        vertical-align: middle;\n    }\n\n    .dataframe tbody tr th {\n        vertical-align: top;\n    }\n\n    .dataframe thead th {\n        text-align: right;\n    }\n</style>\n<table border=\"1\" class=\"dataframe\">\n  <thead>\n    <tr style=\"text-align: right;\">\n      <th></th>\n      <th>Joined date</th>\n      <th>employees</th>\n    </tr>\n    <tr>\n      <th>Joined date</th>\n      <th></th>\n      <th></th>\n    </tr>\n  </thead>\n  <tbody>\n    <tr>\n      <th>2019-11-20</th>\n      <td>2019-11-20</td>\n      <td>Hisila</td>\n    </tr>\n    <tr>\n      <th>2020-01-02</th>\n      <td>2020-01-02</td>\n      <td>Shristi</td>\n    </tr>\n    <tr>\n      <th>2020-02-05</th>\n      <td>2020-02-05</td>\n      <td>Zeppy</td>\n    </tr>\n  </tbody>\n</table>\n</div>"
     },
     "execution_count": 8,
     "metadata": {},
     "output_type": "execute_result"
    }
   ],
   "source": [
    "# 按照指定列选择\n",
    "sel_data = ['2019-11-20', '2020-01-02', '2020-02-05']\n",
    "df.loc[sel_data, :]"
   ],
   "metadata": {
    "collapsed": false,
    "pycharm": {
     "name": "#%%\n"
    }
   }
  },
  {
   "cell_type": "code",
   "execution_count": 9,
   "outputs": [
    {
     "data": {
      "text/plain": "            Joined date employees\nJoined date                      \n2020-01-02   2020-01-02   Shristi\n2020-02-05   2020-02-05     Zeppy\n2020-03-10   2020-03-10     Alina\n2020-04-16   2020-04-16     Jerry\n2020-05-01   2020-05-01     Kevin",
      "text/html": "<div>\n<style scoped>\n    .dataframe tbody tr th:only-of-type {\n        vertical-align: middle;\n    }\n\n    .dataframe tbody tr th {\n        vertical-align: top;\n    }\n\n    .dataframe thead th {\n        text-align: right;\n    }\n</style>\n<table border=\"1\" class=\"dataframe\">\n  <thead>\n    <tr style=\"text-align: right;\">\n      <th></th>\n      <th>Joined date</th>\n      <th>employees</th>\n    </tr>\n    <tr>\n      <th>Joined date</th>\n      <th></th>\n      <th></th>\n    </tr>\n  </thead>\n  <tbody>\n    <tr>\n      <th>2020-01-02</th>\n      <td>2020-01-02</td>\n      <td>Shristi</td>\n    </tr>\n    <tr>\n      <th>2020-02-05</th>\n      <td>2020-02-05</td>\n      <td>Zeppy</td>\n    </tr>\n    <tr>\n      <th>2020-03-10</th>\n      <td>2020-03-10</td>\n      <td>Alina</td>\n    </tr>\n    <tr>\n      <th>2020-04-16</th>\n      <td>2020-04-16</td>\n      <td>Jerry</td>\n    </tr>\n    <tr>\n      <th>2020-05-01</th>\n      <td>2020-05-01</td>\n      <td>Kevin</td>\n    </tr>\n  </tbody>\n</table>\n</div>"
     },
     "execution_count": 9,
     "metadata": {},
     "output_type": "execute_result"
    }
   ],
   "source": [
    "# 时间过滤筛选\n",
    "df.loc[df['Joined date'] > '2019-12-20']"
   ],
   "metadata": {
    "collapsed": false,
    "pycharm": {
     "name": "#%%\n"
    }
   }
  },
  {
   "cell_type": "markdown",
   "source": [
    "# 3. 两个df取交集并集"
   ],
   "metadata": {
    "collapsed": false,
    "pycharm": {
     "name": "#%% md\n"
    }
   }
  },
  {
   "cell_type": "code",
   "execution_count": 10,
   "outputs": [
    {
     "name": "stdout",
     "output_type": "stream",
     "text": [
      "df1\n",
      "   Joined date employees\n",
      "0  2019-11-20    Hisila\n",
      "1  2020-01-02   Shristi\n",
      "2  2020-02-05     Zeppy\n",
      "3  2020-03-10     Alina\n",
      "4  2020-04-16     Jerry\n",
      "5  2020-05-01     Kevin\n",
      "\n",
      "df2\n",
      "   Joined date wk_id\n",
      "0  2019-11-20    12\n",
      "1  2020-01-02    33\n",
      "2  2020-02-05    55\n",
      "3  2020-03-10    66\n",
      "4  2020-04-16    88\n",
      "5  2020-05-01    99\n"
     ]
    }
   ],
   "source": [
    "df1 = pd.DataFrame({'Joined date': list_of_dates, 'employees': employees})\n",
    "print('df1\\n', df1)\n",
    "\n",
    "wk_id=['12', '33','55','66','88','99']\n",
    "df2 = pd.DataFrame({'Joined date': list_of_dates, 'wk_id': wk_id})\n",
    "print('\\ndf2\\n', df2)"
   ],
   "metadata": {
    "collapsed": false,
    "pycharm": {
     "name": "#%%\n"
    }
   }
  },
  {
   "cell_type": "code",
   "execution_count": 11,
   "outputs": [
    {
     "data": {
      "text/plain": "  Joined date employees wk_id\n0  2019-11-20    Hisila    12\n1  2020-01-02   Shristi    33\n2  2020-02-05     Zeppy    55\n3  2020-03-10     Alina    66\n4  2020-04-16     Jerry    88\n5  2020-05-01     Kevin    99",
      "text/html": "<div>\n<style scoped>\n    .dataframe tbody tr th:only-of-type {\n        vertical-align: middle;\n    }\n\n    .dataframe tbody tr th {\n        vertical-align: top;\n    }\n\n    .dataframe thead th {\n        text-align: right;\n    }\n</style>\n<table border=\"1\" class=\"dataframe\">\n  <thead>\n    <tr style=\"text-align: right;\">\n      <th></th>\n      <th>Joined date</th>\n      <th>employees</th>\n      <th>wk_id</th>\n    </tr>\n  </thead>\n  <tbody>\n    <tr>\n      <th>0</th>\n      <td>2019-11-20</td>\n      <td>Hisila</td>\n      <td>12</td>\n    </tr>\n    <tr>\n      <th>1</th>\n      <td>2020-01-02</td>\n      <td>Shristi</td>\n      <td>33</td>\n    </tr>\n    <tr>\n      <th>2</th>\n      <td>2020-02-05</td>\n      <td>Zeppy</td>\n      <td>55</td>\n    </tr>\n    <tr>\n      <th>3</th>\n      <td>2020-03-10</td>\n      <td>Alina</td>\n      <td>66</td>\n    </tr>\n    <tr>\n      <th>4</th>\n      <td>2020-04-16</td>\n      <td>Jerry</td>\n      <td>88</td>\n    </tr>\n    <tr>\n      <th>5</th>\n      <td>2020-05-01</td>\n      <td>Kevin</td>\n      <td>99</td>\n    </tr>\n  </tbody>\n</table>\n</div>"
     },
     "execution_count": 11,
     "metadata": {},
     "output_type": "execute_result"
    }
   ],
   "source": [
    "# 取交集 (测试不会删除异同的列，会自动按照相同的列交集后算结果)\n",
    "pd.merge(df1,df2,how='inner')"
   ],
   "metadata": {
    "collapsed": false,
    "pycharm": {
     "name": "#%%\n"
    }
   }
  },
  {
   "cell_type": "code",
   "execution_count": 12,
   "outputs": [
    {
     "name": "stdout",
     "output_type": "stream",
     "text": [
      "\n",
      "df3\n",
      "   Joined date wk_id\n",
      "0  2019-11-20    12\n",
      "1  2020-01-02    33\n",
      "2  2020-02-05    55\n",
      "3  2020-03-10    66\n"
     ]
    }
   ],
   "source": [
    "wk_id=['12', '33','55','66']\n",
    "df3 = pd.DataFrame({'Joined date': list_of_dates[:4], 'wk_id': wk_id})\n",
    "print('\\ndf3\\n', df3)"
   ],
   "metadata": {
    "collapsed": false,
    "pycharm": {
     "name": "#%%\n"
    }
   }
  },
  {
   "cell_type": "code",
   "execution_count": 13,
   "outputs": [
    {
     "data": {
      "text/plain": "  Joined date employees wk_id\n0  2019-11-20    Hisila    12\n1  2020-01-02   Shristi    33\n2  2020-02-05     Zeppy    55\n3  2020-03-10     Alina    66",
      "text/html": "<div>\n<style scoped>\n    .dataframe tbody tr th:only-of-type {\n        vertical-align: middle;\n    }\n\n    .dataframe tbody tr th {\n        vertical-align: top;\n    }\n\n    .dataframe thead th {\n        text-align: right;\n    }\n</style>\n<table border=\"1\" class=\"dataframe\">\n  <thead>\n    <tr style=\"text-align: right;\">\n      <th></th>\n      <th>Joined date</th>\n      <th>employees</th>\n      <th>wk_id</th>\n    </tr>\n  </thead>\n  <tbody>\n    <tr>\n      <th>0</th>\n      <td>2019-11-20</td>\n      <td>Hisila</td>\n      <td>12</td>\n    </tr>\n    <tr>\n      <th>1</th>\n      <td>2020-01-02</td>\n      <td>Shristi</td>\n      <td>33</td>\n    </tr>\n    <tr>\n      <th>2</th>\n      <td>2020-02-05</td>\n      <td>Zeppy</td>\n      <td>55</td>\n    </tr>\n    <tr>\n      <th>3</th>\n      <td>2020-03-10</td>\n      <td>Alina</td>\n      <td>66</td>\n    </tr>\n  </tbody>\n</table>\n</div>"
     },
     "execution_count": 13,
     "metadata": {},
     "output_type": "execute_result"
    }
   ],
   "source": [
    "# 取交集\n",
    "# 可以设置保留的列： pd.merge(df1,df2,on=['name', 'age', 'sex'],how='inner')\n",
    "pd.merge(df1,df3,how='inner')"
   ],
   "metadata": {
    "collapsed": false,
    "pycharm": {
     "name": "#%%\n"
    }
   }
  },
  {
   "cell_type": "code",
   "execution_count": 14,
   "outputs": [
    {
     "data": {
      "text/plain": "  Joined date employees wk_id\n0  2019-11-20    Hisila    12\n1  2020-01-02   Shristi    33\n2  2020-02-05     Zeppy    55\n3  2020-03-10     Alina    66\n4  2020-04-16     Jerry   NaN\n5  2020-05-01     Kevin   NaN",
      "text/html": "<div>\n<style scoped>\n    .dataframe tbody tr th:only-of-type {\n        vertical-align: middle;\n    }\n\n    .dataframe tbody tr th {\n        vertical-align: top;\n    }\n\n    .dataframe thead th {\n        text-align: right;\n    }\n</style>\n<table border=\"1\" class=\"dataframe\">\n  <thead>\n    <tr style=\"text-align: right;\">\n      <th></th>\n      <th>Joined date</th>\n      <th>employees</th>\n      <th>wk_id</th>\n    </tr>\n  </thead>\n  <tbody>\n    <tr>\n      <th>0</th>\n      <td>2019-11-20</td>\n      <td>Hisila</td>\n      <td>12</td>\n    </tr>\n    <tr>\n      <th>1</th>\n      <td>2020-01-02</td>\n      <td>Shristi</td>\n      <td>33</td>\n    </tr>\n    <tr>\n      <th>2</th>\n      <td>2020-02-05</td>\n      <td>Zeppy</td>\n      <td>55</td>\n    </tr>\n    <tr>\n      <th>3</th>\n      <td>2020-03-10</td>\n      <td>Alina</td>\n      <td>66</td>\n    </tr>\n    <tr>\n      <th>4</th>\n      <td>2020-04-16</td>\n      <td>Jerry</td>\n      <td>NaN</td>\n    </tr>\n    <tr>\n      <th>5</th>\n      <td>2020-05-01</td>\n      <td>Kevin</td>\n      <td>NaN</td>\n    </tr>\n  </tbody>\n</table>\n</div>"
     },
     "execution_count": 14,
     "metadata": {},
     "output_type": "execute_result"
    }
   ],
   "source": [
    "# 取并集\n",
    "pd.merge(df1,df3,how='outer')"
   ],
   "metadata": {
    "collapsed": false,
    "pycharm": {
     "name": "#%%\n"
    }
   }
  },
  {
   "cell_type": "code",
   "execution_count": 19,
   "outputs": [
    {
     "data": {
      "text/plain": "  Joined date employees Joined date wk_id\n0  2019-11-20    Hisila  2019-11-20    12\n1  2020-01-02   Shristi  2020-01-02    33\n2  2020-02-05     Zeppy  2020-02-05    55\n3  2020-03-10     Alina  2020-03-10    66",
      "text/html": "<div>\n<style scoped>\n    .dataframe tbody tr th:only-of-type {\n        vertical-align: middle;\n    }\n\n    .dataframe tbody tr th {\n        vertical-align: top;\n    }\n\n    .dataframe thead th {\n        text-align: right;\n    }\n</style>\n<table border=\"1\" class=\"dataframe\">\n  <thead>\n    <tr style=\"text-align: right;\">\n      <th></th>\n      <th>Joined date</th>\n      <th>employees</th>\n      <th>Joined date</th>\n      <th>wk_id</th>\n    </tr>\n  </thead>\n  <tbody>\n    <tr>\n      <th>0</th>\n      <td>2019-11-20</td>\n      <td>Hisila</td>\n      <td>2019-11-20</td>\n      <td>12</td>\n    </tr>\n    <tr>\n      <th>1</th>\n      <td>2020-01-02</td>\n      <td>Shristi</td>\n      <td>2020-01-02</td>\n      <td>33</td>\n    </tr>\n    <tr>\n      <th>2</th>\n      <td>2020-02-05</td>\n      <td>Zeppy</td>\n      <td>2020-02-05</td>\n      <td>55</td>\n    </tr>\n    <tr>\n      <th>3</th>\n      <td>2020-03-10</td>\n      <td>Alina</td>\n      <td>2020-03-10</td>\n      <td>66</td>\n    </tr>\n  </tbody>\n</table>\n</div>"
     },
     "execution_count": 19,
     "metadata": {},
     "output_type": "execute_result"
    }
   ],
   "source": [
    "# 可以看到concat虽然也能基于日期取交集，但会产生重复的列joined data\n",
    "pd.concat([df1, df3], axis=1, join='inner')\n",
    "#取差集（从df1中过滤df2中存在的数据）\n",
    "# df1 = df1.append(df2)\n",
    "# df1 = df1.append(df2)\n",
    "# df1 = df1.drop_duplicates(subset=['name', 'age', 'sex'],keep=False)\n"
   ],
   "metadata": {
    "collapsed": false,
    "pycharm": {
     "name": "#%%\n"
    }
   }
  }
 ],
 "metadata": {
  "kernelspec": {
   "name": "pycharm-5ee6fb1",
   "language": "python",
   "display_name": "PyCharm (ai_quant_trade)"
  },
  "language_info": {
   "codemirror_mode": {
    "name": "ipython",
    "version": 2
   },
   "file_extension": ".py",
   "mimetype": "text/x-python",
   "name": "python",
   "nbconvert_exporter": "python",
   "pygments_lexer": "ipython2",
   "version": "2.7.6"
  }
 },
 "nbformat": 4,
 "nbformat_minor": 0
}