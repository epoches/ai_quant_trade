{
 "cells": [
  {
   "cell_type": "markdown",
   "source": [
    "# 1. 在1维array像List一样添加元素"
   ],
   "metadata": {
    "collapsed": false,
    "pycharm": {
     "name": "#%% md\n"
    }
   }
  },
  {
   "cell_type": "code",
   "execution_count": 5,
   "metadata": {
    "collapsed": true,
    "pycharm": {
     "name": "#%%\n"
    }
   },
   "outputs": [
    {
     "name": "stdout",
     "output_type": "stream",
     "text": [
      "a append b\n",
      " [1. 2. 3.]\n",
      "a append c\n",
      " [1. 2. 3. 4. 5. 6.]\n"
     ]
    }
   ],
   "source": [
    "import numpy as np\n",
    "a = np.array([])\n",
    "b = [1,2,3]\n",
    "a = np.append(a, b)\n",
    "print('a append b\\n', a)\n",
    "c = [4,5,6]\n",
    "a = np.append(a, c)\n",
    "print('a append c\\n', a)"
   ]
  },
  {
   "cell_type": "markdown",
   "source": [
    "# 2. 2维元素的拼接"
   ],
   "metadata": {
    "collapsed": false,
    "pycharm": {
     "name": "#%% md\n"
    }
   }
  },
  {
   "cell_type": "code",
   "execution_count": 26,
   "outputs": [
    {
     "name": "stdout",
     "output_type": "stream",
     "text": [
      "c\n",
      " [[4 5 6]\n",
      " [1 2 3]]\n",
      "d\n",
      " [[4 5 6]\n",
      " [1 2 3]]\n"
     ]
    }
   ],
   "source": [
    "import numpy as np\n",
    "a = np.array([[4,5,6]])\n",
    "b = np.array([[1,2,3]])\n",
    "# 0: 按行拼接，1：按列拼接\n",
    "c = np.append(a, b, axis=0)\n",
    "print('c\\n', c)\n",
    "d = np.concatenate([a, b], axis=0)\n",
    "print('d\\n', d)"
   ],
   "metadata": {
    "collapsed": false,
    "pycharm": {
     "name": "#%%\n"
    }
   }
  },
  {
   "cell_type": "markdown",
   "source": [
    "# 3. 遍历拼接2维数组"
   ],
   "metadata": {
    "collapsed": false,
    "pycharm": {
     "name": "#%% md\n"
    }
   }
  },
  {
   "cell_type": "code",
   "execution_count": 1,
   "outputs": [
    {
     "name": "stdout",
     "output_type": "stream",
     "text": [
      "[[4 5 6]\n",
      " [1 2 3]\n",
      " [7 8 9]]\n"
     ]
    }
   ],
   "source": [
    "# 方法1：\n",
    "import numpy as np\n",
    "\n",
    "a = np.array([[4,5,6]])\n",
    "b = np.array([[1,2,3]])\n",
    "c = np.array([[7,8,9]])\n",
    "\n",
    "flag = True\n",
    "val_all = None\n",
    "for item in [a, b, c]:\n",
    "    if flag:\n",
    "        flag = False\n",
    "        val_all = item.copy()\n",
    "    else:\n",
    "        # 0: 按行拼接，1：按列拼接\n",
    "        val_all = np.append(val_all, item, axis=0)\n",
    "print(val_all)"
   ],
   "metadata": {
    "collapsed": false,
    "pycharm": {
     "name": "#%%\n"
    }
   }
  },
  {
   "cell_type": "code",
   "execution_count": 2,
   "outputs": [
    {
     "name": "stdout",
     "output_type": "stream",
     "text": [
      "(1, 3)\n",
      "[[4 5 6]\n",
      " [1 2 3]\n",
      " [7 8 9]]\n"
     ]
    }
   ],
   "source": [
    "# 方法二: 推荐\n",
    "import numpy as np\n",
    "\n",
    "a = np.array([[4,5,6]])\n",
    "b = np.array([[1,2,3]])\n",
    "c = np.array([[7,8,9]])\n",
    "print(a.shape)\n",
    "\n",
    "val_lst = []\n",
    "for item in [a, b, c]:\n",
    "    val_lst.append(item)\n",
    "val_all = np.concatenate(val_lst, axis=0)\n",
    "print(val_all)"
   ],
   "metadata": {
    "collapsed": false,
    "pycharm": {
     "name": "#%%\n"
    }
   }
  }
 ],
 "metadata": {
  "kernelspec": {
   "name": "pycharm-5ee6fb1",
   "language": "python",
   "display_name": "PyCharm (ai_quant_trade)"
  },
  "language_info": {
   "codemirror_mode": {
    "name": "ipython",
    "version": 2
   },
   "file_extension": ".py",
   "mimetype": "text/x-python",
   "name": "python",
   "nbconvert_exporter": "python",
   "pygments_lexer": "ipython2",
   "version": "2.7.6"
  }
 },
 "nbformat": 4,
 "nbformat_minor": 0
}