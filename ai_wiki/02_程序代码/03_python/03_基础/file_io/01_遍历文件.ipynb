{
 "cells": [
  {
   "cell_type": "code",
   "execution_count": null,
   "metadata": {
    "collapsed": true
   },
   "outputs": [],
   "source": [
    "import os \n",
    "\n",
    "# 递归遍历\n",
    "in_dir = ''\n",
    "for file_path, dir_names, file_names in os.walk(in_dir):\n",
    "    for filename in file_names:\n",
    "        full_path = os.path.join(file_path, filename)\n",
    "        print('Processing: ' + full_path)\n",
    "\n",
    "\n",
    "# 只遍历一层\n",
    "for file in os.listdir(in_dir):\n",
    "    full_path = os.path.join(in_dir, file)\n",
    "    print('Processing: ' + full_path)\n"
   ]
  }
 ],
 "metadata": {
  "kernelspec": {
   "display_name": "Python 3",
   "language": "python",
   "name": "python3"
  },
  "language_info": {
   "codemirror_mode": {
    "name": "ipython",
    "version": 2
   },
   "file_extension": ".py",
   "mimetype": "text/x-python",
   "name": "python",
   "nbconvert_exporter": "python",
   "pygments_lexer": "ipython2",
   "version": "2.7.6"
  },
  "pycharm": {
   "stem_cell": {
    "cell_type": "raw",
    "source": [],
    "metadata": {
     "collapsed": false
    }
   }
  }
 },
 "nbformat": 4,
 "nbformat_minor": 0
}