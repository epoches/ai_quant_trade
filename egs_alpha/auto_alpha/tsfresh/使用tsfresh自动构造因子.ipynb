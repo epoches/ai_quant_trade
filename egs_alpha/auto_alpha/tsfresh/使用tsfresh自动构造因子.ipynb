{
 "cells": [
  {
   "cell_type": "markdown",
   "metadata": {
    "collapsed": true,
    "pycharm": {
     "name": "#%% md\n"
    }
   },
   "source": [
    "# 1. 简介\n",
    "\n",
    "- 主页 | https://tsfresh.com/\n",
    "- 文档 | https://tsfresh.readthedocs.io/en/latest/\n",
    "- Github | https://github.com/blue-yonder/tsfresh\n",
    "- Stars | 7.1k\n",
    "- 协议 | MIT\n",
    "\n",
    "tsfresh 是一个用于时间序列特征生成的python包。使用tsfresh可以自动计算出大量的时间序列特征，tsfresh还内置有特征筛选算法可以挑选出和任务有关的特征。提取的特征可用于描述时间序列，这些特征可以用于下游的时间序列任务，如股票价格预测、天气预测、景点人流预测、时尚商品销量预测、商品推荐系统等。\n",
    "\n",
    "tfresh的特点：\n",
    "\n",
    "- 安装方便，使用简单；\n",
    "- 内置数百个在各个领域验证有效的特征生成函数可调用；\n",
    "- 支持设置目标进行特征过滤；\n",
    "- 支持自定义新的特征函数；\n",
    "- 支持对滚动时间序列提取特征；\n",
    "- 支持使用Dask在处理大样本数据；\n",
    "- 支持进行并行化加速；\n",
    "- 可以和scikit-learn进行结合使用。"
   ]
  },
  {
   "cell_type": "code",
   "execution_count": 2,
   "outputs": [],
   "source": [
    "# 如果没有安装，解注释如下代码\n",
    "# !pip install -U tsfresh"
   ],
   "metadata": {
    "collapsed": false,
    "pycharm": {
     "name": "#%%\n",
     "is_executing": false
    }
   }
  },
  {
   "cell_type": "code",
   "execution_count": 4,
   "outputs": [],
   "source": [
    "%matplotlib inline\n",
    "\n",
    "# 引入头文件\n",
    "import qstock as qs\n",
    "\n",
    "import numpy as np\n",
    "import pandas as pd\n",
    "import matplotlib.pylab as plt\n",
    "\n",
    "from tsfresh import extract_features, select_features\n",
    "from tsfresh.utilities.dataframe_functions import roll_time_series, make_forecasting_frame\n",
    "from tsfresh.utilities.dataframe_functions import impute\n",
    "\n",
    "from sklearn.ensemble import AdaBoostRegressor"
   ],
   "metadata": {
    "collapsed": false,
    "pycharm": {
     "name": "#%%\n",
     "is_executing": false
    }
   }
  },
  {
   "cell_type": "markdown",
   "source": [
    "# 2. 数据获取\n",
    "\n",
    "本文使用qstock获取历史行情数据：https://github.com/tkfy920/qstock\n",
    "\n",
    "读者直接在cmd或anaconda prompt上输入“pip install qstock ”进行安装，\n",
    "或输入“pip install -upgrade qstock”进行更新。\n",
    "\n",
    "- 历史K线  \n",
    "  获取单只或多只证券（股票、基金、债券、期货)的历史K线数据。可以根据realtime_data实时行情接口获取相应金融市场交易标的的代码或简称，用于获取其历史K线数据。\n",
    "\n",
    "    - get_data(code_list, start='19000101', end=None, freq='d', fqt=1)\n",
    "\n",
    "   \n",
    "   获取股票、指数、债券、期货、基金等历史K线行情。参数说明：\n",
    "\n",
    "    - code_list输入股票list列表，如code_list=['中国平安','贵州茅台','工业富联'] ，返回多只股票多期时间的面板数据\n",
    "    - start和end为起始和结束日期，年月日\n",
    "    - freq:时间频率，默认日，1 : 分钟；5 : 5 分钟；15 : 15 分钟；30 : 30 分钟； 60 : 60 分钟；101或'D'或'd'：日；102或‘w’或'W'：周; 103或'm'或'M': 月 注意1分钟只能获取最近5个交易日一分钟数据\n",
    "    - fqt:复权类型，0：不复权，1：前复权；2：后复权，默认前复权"
   ],
   "metadata": {
    "collapsed": false
   }
  },
  {
   "cell_type": "code",
   "execution_count": 28,
   "outputs": [
    {
     "name": "stderr",
     "text": [
      "100%|██████████| 1/1 [00:00<00:00,  3.78it/s]"
     ],
     "output_type": "stream"
    },
    {
     "name": "stdout",
     "text": [
      "            name    code    open    high     low   close   volume  \\\n",
      "date                                                                \n",
      "2022-01-04  中国平安  601318  124.83  126.15  124.23  126.03   635838   \n",
      "2022-01-05  中国平安  601318  126.25  128.83  125.97  128.17  1181247   \n",
      "2022-01-06  中国平安  601318  128.01  128.07  126.47  126.63   661658   \n",
      "2022-01-07  中国平安  601318  127.01  130.69  126.93  129.91  1230760   \n",
      "2022-01-10  中国平安  601318  130.01  131.15  129.03  130.19   761134   \n",
      "\n",
      "                turnover  turnover_rate  \n",
      "date                                     \n",
      "2022-01-04  3.221367e+09           0.59  \n",
      "2022-01-05  6.124174e+09           1.09  \n",
      "2022-01-06  3.408948e+09           0.61  \n",
      "2022-01-07  6.481039e+09           1.14  \n",
      "2022-01-10  4.033301e+09           0.70  \n",
      "shape:  (276, 9)\n"
     ],
     "output_type": "stream"
    }
   ],
   "source": [
    "code_list=['中国平安']  # 股票列表\n",
    "df = qs.get_data(code_list, start='20220101', end='20230226', freq='d', fqt=2)\n",
    "print(df.head())\n",
    "print('shape: ', df.shape)"
   ],
   "metadata": {
    "collapsed": false,
    "pycharm": {
     "name": "#%%\n",
     "is_executing": false
    }
   }
  },
  {
   "cell_type": "markdown",
   "source": [
    "# 3. 数据处理"
   ],
   "metadata": {
    "collapsed": false,
    "pycharm": {
     "name": "#%% md\n"
    }
   }
  },
  {
   "cell_type": "code",
   "execution_count": 29,
   "outputs": [
    {
     "name": "stderr",
     "text": [
      "D:\\ProgramFiles\\anaconda3\\lib\\site-packages\\tsfresh\\utilities\\dataframe_functions.py:520: UserWarning: Your time stamps are not uniformly sampled, which makes rolling nonsensical in some domains.\n",
      "  warnings.warn(\n",
      "\n",
      "Rolling:   0%|          | 0/28 [00:00<?, ?it/s]\u001b[A\n",
      "Rolling:   4%|▎         | 1/28 [00:08<03:46,  8.40s/it]\u001b[A\n",
      "Rolling:  14%|█▍        | 4/28 [00:08<02:21,  5.89s/it]\u001b[A\n",
      "Rolling:  36%|███▌      | 10/28 [00:08<01:14,  4.13s/it]\u001b[A\n",
      "Rolling: 100%|██████████| 28/28 [00:08<00:00,  3.19it/s]\u001b[A\n"
     ],
     "output_type": "stream"
    },
    {
     "name": "stdout",
     "text": [
      "   name    open    high     low   close   volume      turnover  turnover_rate  \\\n",
      "0  中国平安  124.83  126.15  124.23  126.03   635838  3.221367e+09           0.59   \n",
      "1  中国平安  126.25  128.83  125.97  128.17  1181247  6.124174e+09           1.09   \n",
      "2  中国平安  128.01  128.07  126.47  126.63   661658  3.408948e+09           0.61   \n",
      "3  中国平安  127.01  130.69  126.93  129.91  1230760  6.481039e+09           1.14   \n",
      "4  中国平安  130.01  131.15  129.03  130.19   761134  4.033301e+09           0.70   \n",
      "\n",
      "        time                           id  \n",
      "0 2022-01-04  (中国平安, 2022-01-11 00:00:00)  \n",
      "1 2022-01-05  (中国平安, 2022-01-11 00:00:00)  \n",
      "2 2022-01-06  (中国平安, 2022-01-11 00:00:00)  \n",
      "3 2022-01-07  (中国平安, 2022-01-11 00:00:00)  \n",
      "4 2022-01-10  (中国平安, 2022-01-11 00:00:00)  \n",
      "shape:  (5571, 10)\n"
     ],
     "output_type": "stream"
    }
   ],
   "source": [
    "df.drop(columns=['code'], inplace=True)  # 删除股票代码code列, inplace为直接修改df，否则需要赋值给新的变量\n",
    "# fixme:由于index列无法获取或指定列名（也许可以实现，但试了好几种方法都报错），新生成一列作为时间，把index的时间赋值这一列\n",
    "df['time'] = df.index\n",
    "# 滚动处理时间序列，指定id列和时间列，滚动处理时序数据\n",
    "df_rolled = roll_time_series(df, column_id=\"name\", column_sort=\"time\",\n",
    "                             max_timeshift=20, min_timeshift=5)\n",
    "print(df_rolled.head())\n",
    "print('shape: ', df_rolled.shape)"
   ],
   "metadata": {
    "collapsed": false,
    "pycharm": {
     "name": "#%%\n",
     "is_executing": false
    }
   }
  },
  {
   "cell_type": "code",
   "execution_count": 30,
   "outputs": [
    {
     "name": "stdout",
     "text": [
      "     open    high     low   close   volume      turnover  turnover_rate  \\\n",
      "0  124.83  126.15  124.23  126.03   635838  3.221367e+09           0.59   \n",
      "1  126.25  128.83  125.97  128.17  1181247  6.124174e+09           1.09   \n",
      "2  128.01  128.07  126.47  126.63   661658  3.408948e+09           0.61   \n",
      "3  127.01  130.69  126.93  129.91  1230760  6.481039e+09           1.14   \n",
      "4  130.01  131.15  129.03  130.19   761134  4.033301e+09           0.70   \n",
      "\n",
      "        time                           id  \n",
      "0 2022-01-04  (中国平安, 2022-01-11 00:00:00)  \n",
      "1 2022-01-05  (中国平安, 2022-01-11 00:00:00)  \n",
      "2 2022-01-06  (中国平安, 2022-01-11 00:00:00)  \n",
      "3 2022-01-07  (中国平安, 2022-01-11 00:00:00)  \n",
      "4 2022-01-10  (中国平安, 2022-01-11 00:00:00)  \n"
     ],
     "output_type": "stream"
    }
   ],
   "source": [
    "# name为股票名的列，不作为特征，所以删除\n",
    "df_rolled.drop(columns=['name'], inplace=True)  # 删除name列, inplace为直接修改df，否则需要赋值给新的变量\n",
    "print(df_rolled.head())"
   ],
   "metadata": {
    "collapsed": false,
    "pycharm": {
     "name": "#%%\n",
     "is_executing": false
    }
   }
  },
  {
   "cell_type": "markdown",
   "source": [
    "# 4. 特征工程\n",
    "## 4.1 特征提取"
   ],
   "metadata": {
    "collapsed": false,
    "pycharm": {
     "name": "#%% md\n"
    }
   }
  },
  {
   "cell_type": "code",
   "execution_count": 31,
   "outputs": [
    {
     "name": "stderr",
     "text": [
      "\n",
      "Feature Extraction:   0%|          | 0/30 [00:00<?, ?it/s]\u001b[A\n",
      "Feature Extraction:   3%|▎         | 1/30 [00:16<07:46, 16.10s/it]\u001b[A\n",
      "Feature Extraction:   7%|▋         | 2/30 [00:16<05:20, 11.46s/it]\u001b[A\n",
      "Feature Extraction:  10%|█         | 3/30 [00:17<03:41,  8.21s/it]\u001b[A\n",
      "Feature Extraction:  13%|█▎        | 4/30 [00:17<02:30,  5.78s/it]\u001b[A\n",
      "Feature Extraction:  17%|█▋        | 5/30 [00:17<01:42,  4.09s/it]\u001b[A\n",
      "Feature Extraction:  20%|██        | 6/30 [00:18<01:12,  3.04s/it]\u001b[A\n",
      "100%|██████████| 1/1 [06:42<00:00, 402.38s/it]26<01:45,  4.58s/it]\u001b[A\n",
      "\n",
      "Feature Extraction:  27%|██▋       | 8/30 [00:27<01:16,  3.46s/it]\u001b[A\n",
      "Feature Extraction:  30%|███       | 9/30 [00:27<00:52,  2.49s/it]\u001b[A\n",
      "Feature Extraction:  33%|███▎      | 10/30 [00:27<00:35,  1.77s/it]\u001b[A\n",
      "Feature Extraction:  43%|████▎     | 13/30 [00:33<00:31,  1.83s/it]\u001b[A\n",
      "Feature Extraction:  50%|█████     | 15/30 [00:33<00:19,  1.31s/it]\u001b[A\n",
      "Feature Extraction:  53%|█████▎    | 16/30 [00:33<00:13,  1.05it/s]\u001b[A\n",
      "Feature Extraction:  60%|██████    | 18/30 [00:33<00:08,  1.43it/s]\u001b[A\n",
      "Feature Extraction:  63%|██████▎   | 19/30 [00:39<00:22,  2.05s/it]\u001b[A\n",
      "Feature Extraction:  67%|██████▋   | 20/30 [00:40<00:17,  1.75s/it]\u001b[A\n",
      "Feature Extraction:  70%|███████   | 21/30 [00:40<00:11,  1.29s/it]\u001b[A\n",
      "Feature Extraction:  73%|███████▎  | 22/30 [00:40<00:07,  1.07it/s]\u001b[A\n",
      "Feature Extraction:  83%|████████▎ | 25/30 [00:47<00:06,  1.31s/it]\u001b[A\n",
      "Feature Extraction:  87%|████████▋ | 26/30 [00:48<00:05,  1.43s/it]\u001b[A\n",
      "Feature Extraction:  90%|█████████ | 27/30 [00:49<00:03,  1.07s/it]\u001b[A\n",
      "Feature Extraction:  93%|█████████▎| 28/30 [00:50<00:02,  1.01s/it]\u001b[A\n",
      "Feature Extraction: 100%|██████████| 30/30 [00:50<00:00,  1.68s/it]\u001b[A\n"
     ],
     "output_type": "stream"
    },
    {
     "data": {
      "text/plain": "                 open__variance_larger_than_standard_deviation  \\\n中国平安 2022-01-11                                            1.0   \n     2022-01-12                                            1.0   \n     2022-01-13                                            1.0   \n     2022-01-14                                            1.0   \n     2022-01-17                                            1.0   \n\n                 open__has_duplicate_max  open__has_duplicate_min  \\\n中国平安 2022-01-11                      0.0                      0.0   \n     2022-01-12                      0.0                      0.0   \n     2022-01-13                      0.0                      0.0   \n     2022-01-14                      0.0                      0.0   \n     2022-01-17                      0.0                      0.0   \n\n                 open__has_duplicate  open__sum_values  open__abs_energy  \\\n中国平安 2022-01-11                  0.0            766.48        97938.6286   \n     2022-01-12                  0.0            895.71       114639.0215   \n     2022-01-13                  0.0           1024.84       131313.5784   \n     2022-01-14                  0.0           1153.57       147884.9913   \n     2022-01-17                  1.0           1279.82       163824.0538   \n\n                 open__mean_abs_change  open__mean_change  \\\n中国平安 2022-01-11               1.508000           1.108000   \n     2022-01-12               1.446667           0.733333   \n     2022-01-13               1.254286           0.614286   \n     2022-01-14               1.147500           0.487500   \n     2022-01-17               1.295556           0.157778   \n\n                 open__mean_second_derivative_central  open__median  ...  \\\n中国平安 2022-01-11                             -0.132500        127.51  ...   \n     2022-01-12                             -0.256000        128.01  ...   \n     2022-01-13                             -0.126667        128.57  ...   \n     2022-01-14                             -0.130000        128.73  ...   \n     2022-01-17                             -0.243750        128.37  ...   \n\n                 turnover_rate__fourier_entropy__bins_5  \\\n中国平安 2022-01-11                                1.039721   \n     2022-01-12                                1.386294   \n     2022-01-13                                0.950271   \n     2022-01-14                                0.950271   \n     2022-01-17                                1.329661   \n\n                 turnover_rate__fourier_entropy__bins_10  \\\n中国平安 2022-01-11                                 1.386294   \n     2022-01-12                                 1.386294   \n     2022-01-13                                 1.332179   \n     2022-01-14                                 0.950271   \n     2022-01-17                                 1.329661   \n\n                 turnover_rate__fourier_entropy__bins_100  \\\n中国平安 2022-01-11                                  1.386294   \n     2022-01-12                                  1.386294   \n     2022-01-13                                  1.609438   \n     2022-01-14                                  1.609438   \n     2022-01-17                                  1.791759   \n\n                 turnover_rate__permutation_entropy__dimension_3__tau_1  \\\n中国平安 2022-01-11                                           1.039721        \n     2022-01-12                                           1.054920        \n     2022-01-13                                           1.098612        \n     2022-01-14                                           1.351784        \n     2022-01-17                                           1.559581        \n\n                 turnover_rate__permutation_entropy__dimension_4__tau_1  \\\n中国平安 2022-01-11                                           1.098612        \n     2022-01-12                                           1.386294        \n     2022-01-13                                           1.609438        \n     2022-01-14                                           1.791759        \n     2022-01-17                                           1.945910        \n\n                 turnover_rate__permutation_entropy__dimension_5__tau_1  \\\n中国平安 2022-01-11                                           0.693147        \n     2022-01-12                                           1.098612        \n     2022-01-13                                           1.386294        \n     2022-01-14                                           1.609438        \n     2022-01-17                                           1.791759        \n\n                 turnover_rate__permutation_entropy__dimension_6__tau_1  \\\n中国平安 2022-01-11                                          -0.000000        \n     2022-01-12                                           0.693147        \n     2022-01-13                                           1.098612        \n     2022-01-14                                           1.386294        \n     2022-01-17                                           1.609438        \n\n                 turnover_rate__permutation_entropy__dimension_7__tau_1  \\\n中国平安 2022-01-11                                           2.708050        \n     2022-01-12                                          -0.000000        \n     2022-01-13                                           0.693147        \n     2022-01-14                                           1.098612        \n     2022-01-17                                           1.386294        \n\n                 turnover_rate__query_similarity_count__query_None__threshold_0.0  \\\n中国平安 2022-01-11                                                0.0                  \n     2022-01-12                                                0.0                  \n     2022-01-13                                                0.0                  \n     2022-01-14                                                0.0                  \n     2022-01-17                                                0.0                  \n\n                 turnover_rate__mean_n_absolute_max__number_of_maxima_7  \n中国平安 2022-01-11                                           0.745714       \n     2022-01-12                                           0.745714       \n     2022-01-13                                           0.775714       \n     2022-01-14                                           0.794286       \n     2022-01-17                                           0.794286       \n\n[5 rows x 5481 columns]",
      "text/html": "<div>\n<style scoped>\n    .dataframe tbody tr th:only-of-type {\n        vertical-align: middle;\n    }\n\n    .dataframe tbody tr th {\n        vertical-align: top;\n    }\n\n    .dataframe thead th {\n        text-align: right;\n    }\n</style>\n<table border=\"1\" class=\"dataframe\">\n  <thead>\n    <tr style=\"text-align: right;\">\n      <th></th>\n      <th></th>\n      <th>open__variance_larger_than_standard_deviation</th>\n      <th>open__has_duplicate_max</th>\n      <th>open__has_duplicate_min</th>\n      <th>open__has_duplicate</th>\n      <th>open__sum_values</th>\n      <th>open__abs_energy</th>\n      <th>open__mean_abs_change</th>\n      <th>open__mean_change</th>\n      <th>open__mean_second_derivative_central</th>\n      <th>open__median</th>\n      <th>...</th>\n      <th>turnover_rate__fourier_entropy__bins_5</th>\n      <th>turnover_rate__fourier_entropy__bins_10</th>\n      <th>turnover_rate__fourier_entropy__bins_100</th>\n      <th>turnover_rate__permutation_entropy__dimension_3__tau_1</th>\n      <th>turnover_rate__permutation_entropy__dimension_4__tau_1</th>\n      <th>turnover_rate__permutation_entropy__dimension_5__tau_1</th>\n      <th>turnover_rate__permutation_entropy__dimension_6__tau_1</th>\n      <th>turnover_rate__permutation_entropy__dimension_7__tau_1</th>\n      <th>turnover_rate__query_similarity_count__query_None__threshold_0.0</th>\n      <th>turnover_rate__mean_n_absolute_max__number_of_maxima_7</th>\n    </tr>\n  </thead>\n  <tbody>\n    <tr>\n      <th rowspan=\"5\" valign=\"top\">中国平安</th>\n      <th>2022-01-11</th>\n      <td>1.0</td>\n      <td>0.0</td>\n      <td>0.0</td>\n      <td>0.0</td>\n      <td>766.48</td>\n      <td>97938.6286</td>\n      <td>1.508000</td>\n      <td>1.108000</td>\n      <td>-0.132500</td>\n      <td>127.51</td>\n      <td>...</td>\n      <td>1.039721</td>\n      <td>1.386294</td>\n      <td>1.386294</td>\n      <td>1.039721</td>\n      <td>1.098612</td>\n      <td>0.693147</td>\n      <td>-0.000000</td>\n      <td>2.708050</td>\n      <td>0.0</td>\n      <td>0.745714</td>\n    </tr>\n    <tr>\n      <th>2022-01-12</th>\n      <td>1.0</td>\n      <td>0.0</td>\n      <td>0.0</td>\n      <td>0.0</td>\n      <td>895.71</td>\n      <td>114639.0215</td>\n      <td>1.446667</td>\n      <td>0.733333</td>\n      <td>-0.256000</td>\n      <td>128.01</td>\n      <td>...</td>\n      <td>1.386294</td>\n      <td>1.386294</td>\n      <td>1.386294</td>\n      <td>1.054920</td>\n      <td>1.386294</td>\n      <td>1.098612</td>\n      <td>0.693147</td>\n      <td>-0.000000</td>\n      <td>0.0</td>\n      <td>0.745714</td>\n    </tr>\n    <tr>\n      <th>2022-01-13</th>\n      <td>1.0</td>\n      <td>0.0</td>\n      <td>0.0</td>\n      <td>0.0</td>\n      <td>1024.84</td>\n      <td>131313.5784</td>\n      <td>1.254286</td>\n      <td>0.614286</td>\n      <td>-0.126667</td>\n      <td>128.57</td>\n      <td>...</td>\n      <td>0.950271</td>\n      <td>1.332179</td>\n      <td>1.609438</td>\n      <td>1.098612</td>\n      <td>1.609438</td>\n      <td>1.386294</td>\n      <td>1.098612</td>\n      <td>0.693147</td>\n      <td>0.0</td>\n      <td>0.775714</td>\n    </tr>\n    <tr>\n      <th>2022-01-14</th>\n      <td>1.0</td>\n      <td>0.0</td>\n      <td>0.0</td>\n      <td>0.0</td>\n      <td>1153.57</td>\n      <td>147884.9913</td>\n      <td>1.147500</td>\n      <td>0.487500</td>\n      <td>-0.130000</td>\n      <td>128.73</td>\n      <td>...</td>\n      <td>0.950271</td>\n      <td>0.950271</td>\n      <td>1.609438</td>\n      <td>1.351784</td>\n      <td>1.791759</td>\n      <td>1.609438</td>\n      <td>1.386294</td>\n      <td>1.098612</td>\n      <td>0.0</td>\n      <td>0.794286</td>\n    </tr>\n    <tr>\n      <th>2022-01-17</th>\n      <td>1.0</td>\n      <td>0.0</td>\n      <td>0.0</td>\n      <td>1.0</td>\n      <td>1279.82</td>\n      <td>163824.0538</td>\n      <td>1.295556</td>\n      <td>0.157778</td>\n      <td>-0.243750</td>\n      <td>128.37</td>\n      <td>...</td>\n      <td>1.329661</td>\n      <td>1.329661</td>\n      <td>1.791759</td>\n      <td>1.559581</td>\n      <td>1.945910</td>\n      <td>1.791759</td>\n      <td>1.609438</td>\n      <td>1.386294</td>\n      <td>0.0</td>\n      <td>0.794286</td>\n    </tr>\n  </tbody>\n</table>\n<p>5 rows × 5481 columns</p>\n</div>"
     },
     "metadata": {},
     "output_type": "execute_result",
     "execution_count": 31
    }
   ],
   "source": [
    "# 提取特征，可以指定特征列（不指定即所有的列）\n",
    "X = extract_features(df_rolled, \n",
    "                     column_id=\"id\", column_sort=\"time\", # column_value=\"high\", \n",
    "                     impute_function=impute)  # , show_warnings=False)\n",
    "X.head()"
   ],
   "metadata": {
    "collapsed": false,
    "pycharm": {
     "name": "#%%\n",
     "is_executing": false
    }
   }
  },
  {
   "cell_type": "code",
   "execution_count": 32,
   "outputs": [
    {
     "name": "stdout",
     "text": [
      "                    open__variance_larger_than_standard_deviation  \\\n",
      "Symbols last_date                                                   \n",
      "中国平安    2022-01-11                                            1.0   \n",
      "        2022-01-12                                            1.0   \n",
      "        2022-01-13                                            1.0   \n",
      "        2022-01-14                                            1.0   \n",
      "        2022-01-17                                            1.0   \n",
      "\n",
      "                    open__has_duplicate_max  open__has_duplicate_min  \\\n",
      "Symbols last_date                                                      \n",
      "中国平安    2022-01-11                      0.0                      0.0   \n",
      "        2022-01-12                      0.0                      0.0   \n",
      "        2022-01-13                      0.0                      0.0   \n",
      "        2022-01-14                      0.0                      0.0   \n",
      "        2022-01-17                      0.0                      0.0   \n",
      "\n",
      "                    open__has_duplicate  open__sum_values  open__abs_energy  \\\n",
      "Symbols last_date                                                             \n",
      "中国平安    2022-01-11                  0.0            766.48        97938.6286   \n",
      "        2022-01-12                  0.0            895.71       114639.0215   \n",
      "        2022-01-13                  0.0           1024.84       131313.5784   \n",
      "        2022-01-14                  0.0           1153.57       147884.9913   \n",
      "        2022-01-17                  1.0           1279.82       163824.0538   \n",
      "\n",
      "                    open__mean_abs_change  open__mean_change  \\\n",
      "Symbols last_date                                              \n",
      "中国平安    2022-01-11               1.508000           1.108000   \n",
      "        2022-01-12               1.446667           0.733333   \n",
      "        2022-01-13               1.254286           0.614286   \n",
      "        2022-01-14               1.147500           0.487500   \n",
      "        2022-01-17               1.295556           0.157778   \n",
      "\n",
      "                    open__mean_second_derivative_central  open__median  ...  \\\n",
      "Symbols last_date                                                       ...   \n",
      "中国平安    2022-01-11                             -0.132500        127.51  ...   \n",
      "        2022-01-12                             -0.256000        128.01  ...   \n",
      "        2022-01-13                             -0.126667        128.57  ...   \n",
      "        2022-01-14                             -0.130000        128.73  ...   \n",
      "        2022-01-17                             -0.243750        128.37  ...   \n",
      "\n",
      "                    turnover_rate__fourier_entropy__bins_5  \\\n",
      "Symbols last_date                                            \n",
      "中国平安    2022-01-11                                1.039721   \n",
      "        2022-01-12                                1.386294   \n",
      "        2022-01-13                                0.950271   \n",
      "        2022-01-14                                0.950271   \n",
      "        2022-01-17                                1.329661   \n",
      "\n",
      "                    turnover_rate__fourier_entropy__bins_10  \\\n",
      "Symbols last_date                                             \n",
      "中国平安    2022-01-11                                 1.386294   \n",
      "        2022-01-12                                 1.386294   \n",
      "        2022-01-13                                 1.332179   \n",
      "        2022-01-14                                 0.950271   \n",
      "        2022-01-17                                 1.329661   \n",
      "\n",
      "                    turnover_rate__fourier_entropy__bins_100  \\\n",
      "Symbols last_date                                              \n",
      "中国平安    2022-01-11                                  1.386294   \n",
      "        2022-01-12                                  1.386294   \n",
      "        2022-01-13                                  1.609438   \n",
      "        2022-01-14                                  1.609438   \n",
      "        2022-01-17                                  1.791759   \n",
      "\n",
      "                    turnover_rate__permutation_entropy__dimension_3__tau_1  \\\n",
      "Symbols last_date                                                            \n",
      "中国平安    2022-01-11                                           1.039721        \n",
      "        2022-01-12                                           1.054920        \n",
      "        2022-01-13                                           1.098612        \n",
      "        2022-01-14                                           1.351784        \n",
      "        2022-01-17                                           1.559581        \n",
      "\n",
      "                    turnover_rate__permutation_entropy__dimension_4__tau_1  \\\n",
      "Symbols last_date                                                            \n",
      "中国平安    2022-01-11                                           1.098612        \n",
      "        2022-01-12                                           1.386294        \n",
      "        2022-01-13                                           1.609438        \n",
      "        2022-01-14                                           1.791759        \n",
      "        2022-01-17                                           1.945910        \n",
      "\n",
      "                    turnover_rate__permutation_entropy__dimension_5__tau_1  \\\n",
      "Symbols last_date                                                            \n",
      "中国平安    2022-01-11                                           0.693147        \n",
      "        2022-01-12                                           1.098612        \n",
      "        2022-01-13                                           1.386294        \n",
      "        2022-01-14                                           1.609438        \n",
      "        2022-01-17                                           1.791759        \n",
      "\n",
      "                    turnover_rate__permutation_entropy__dimension_6__tau_1  \\\n",
      "Symbols last_date                                                            \n",
      "中国平安    2022-01-11                                          -0.000000        \n",
      "        2022-01-12                                           0.693147        \n",
      "        2022-01-13                                           1.098612        \n",
      "        2022-01-14                                           1.386294        \n",
      "        2022-01-17                                           1.609438        \n",
      "\n",
      "                    turnover_rate__permutation_entropy__dimension_7__tau_1  \\\n",
      "Symbols last_date                                                            \n",
      "中国平安    2022-01-11                                           2.708050        \n",
      "        2022-01-12                                          -0.000000        \n",
      "        2022-01-13                                           0.693147        \n",
      "        2022-01-14                                           1.098612        \n",
      "        2022-01-17                                           1.386294        \n",
      "\n",
      "                    turnover_rate__query_similarity_count__query_None__threshold_0.0  \\\n",
      "Symbols last_date                                                                      \n",
      "中国平安    2022-01-11                                                0.0                  \n",
      "        2022-01-12                                                0.0                  \n",
      "        2022-01-13                                                0.0                  \n",
      "        2022-01-14                                                0.0                  \n",
      "        2022-01-17                                                0.0                  \n",
      "\n",
      "                    turnover_rate__mean_n_absolute_max__number_of_maxima_7  \n",
      "Symbols last_date                                                           \n",
      "中国平安    2022-01-11                                           0.745714       \n",
      "        2022-01-12                                           0.745714       \n",
      "        2022-01-13                                           0.775714       \n",
      "        2022-01-14                                           0.794286       \n",
      "        2022-01-17                                           0.794286       \n",
      "\n",
      "[5 rows x 5481 columns]\n"
     ],
     "output_type": "stream"
    }
   ],
   "source": [
    "# 通过给数据一个多索引而不是元组索引，让数据更容易处理\n",
    "X = X.set_index([X.index.map(lambda x: x[0]), X.index.map(lambda x: x[1])], drop=True)\n",
    "X.index.names = [\"Symbols\", \"last_date\"]\n",
    "print(X.head())"
   ],
   "metadata": {
    "collapsed": false,
    "pycharm": {
     "name": "#%%\n",
     "is_executing": false
    }
   }
  },
  {
   "cell_type": "markdown",
   "source": [
    "## 4.2 标签制作"
   ],
   "metadata": {
    "collapsed": false,
    "pycharm": {
     "name": "#%% md\n"
    }
   }
  },
  {
   "cell_type": "code",
   "execution_count": 33,
   "outputs": [
    {
     "name": "stdout",
     "text": [
      "name  time      \n",
      "中国平安  2022-01-04    128.17\n",
      "      2022-01-05    126.63\n",
      "      2022-01-06    129.91\n",
      "      2022-01-07    130.19\n",
      "      2022-01-10    129.75\n",
      "dtype: float64\n",
      "shape:  (276,)\n"
     ],
     "output_type": "stream"
    }
   ],
   "source": [
    "# 或将每只股票分别编号: 按date排列，以close(收盘价)为index，向未来移动1个时间步，引入与上面X相同的多索引格式\n",
    "y = df.groupby(\"name\").apply(lambda x: x.set_index(\"time\")[\"close\"].shift(-1)).T.unstack()\n",
    "print(y.head())\n",
    "print('shape: ', y.shape)"
   ],
   "metadata": {
    "collapsed": false,
    "pycharm": {
     "name": "#%%\n",
     "is_executing": false
    }
   }
  },
  {
   "cell_type": "code",
   "execution_count": 39,
   "outputs": [
    {
     "data": {
      "text/plain": "(128.17, 126.63)"
     },
     "metadata": {},
     "output_type": "execute_result",
     "execution_count": 39
    }
   ],
   "source": [
    "# 一致性测试，查看日期是否挪动了一步，即避免看到未来：\n",
    "y[0], y[1]"
   ],
   "metadata": {
    "collapsed": false,
    "pycharm": {
     "name": "#%%\n",
     "is_executing": false
    }
   }
  },
  {
   "cell_type": "code",
   "execution_count": 40,
   "outputs": [],
   "source": [
    "# 保持X和y标签时间一致\n",
    "y = y[y.index.isin(X.index)]\n",
    "X = X[X.index.isin(y.index)]"
   ],
   "metadata": {
    "collapsed": false,
    "pycharm": {
     "name": "#%%\n",
     "is_executing": false
    }
   }
  },
  {
   "cell_type": "markdown",
   "source": [
    "## 4.3 训练数据准备"
   ],
   "metadata": {
    "collapsed": false,
    "pycharm": {
     "name": "#%% md\n"
    }
   }
  },
  {
   "cell_type": "code",
   "execution_count": 41,
   "outputs": [],
   "source": [
    "# 分解为train和test样本的工作原理与单个标识符相同，但这一次我们有一个多索引符号-日期，因此loc调用看起来更复杂一些\n",
    "\n",
    "X_train = X.loc[(slice(None), slice(None, \"2022-12-31\")), :]\n",
    "X_test = X.loc[(slice(None), slice(\"2023-01-01\", \"2023-02-26\")), :]\n",
    "\n",
    "y_train = y.loc[(slice(None), slice(None, \"2022-12-31\"))]\n",
    "y_test = y.loc[(slice(None), slice(\"2023-01-01\", \"2023-02-26\"))]"
   ],
   "metadata": {
    "collapsed": false,
    "pycharm": {
     "name": "#%%\n",
     "is_executing": false
    }
   }
  },
  {
   "cell_type": "code",
   "execution_count": 42,
   "outputs": [
    {
     "name": "stdout",
     "text": [
      "X_train (237, 5481)\n",
      "X_test (34, 5481)\n"
     ],
     "output_type": "stream"
    }
   ],
   "source": [
    "print('X_train', X_train.shape)\n",
    "print('X_test', X_test.shape)"
   ],
   "metadata": {
    "collapsed": false,
    "pycharm": {
     "name": "#%%\n",
     "is_executing": false
    }
   }
  },
  {
   "cell_type": "code",
   "execution_count": 43,
   "outputs": [],
   "source": [
    "# 特征选择\n",
    "X_train_selected = select_features(X_train, y_train)"
   ],
   "metadata": {
    "collapsed": false,
    "pycharm": {
     "name": "#%%\n",
     "is_executing": false
    }
   }
  },
  {
   "cell_type": "code",
   "execution_count": 44,
   "outputs": [
    {
     "name": "stdout",
     "text": [
      "X_train_selected (237, 1456)\n"
     ],
     "output_type": "stream"
    }
   ],
   "source": [
    "print('X_train_selected', X_train_selected.shape)"
   ],
   "metadata": {
    "collapsed": false,
    "pycharm": {
     "name": "#%%\n",
     "is_executing": false
    }
   }
  },
  {
   "cell_type": "markdown",
   "source": [
    "# 5. 模型训练"
   ],
   "metadata": {
    "collapsed": false,
    "pycharm": {
     "name": "#%% md\n"
    }
   }
  },
  {
   "cell_type": "code",
   "execution_count": 45,
   "outputs": [
    {
     "data": {
      "text/plain": "AdaBoostRegressor()"
     },
     "metadata": {},
     "output_type": "execute_result",
     "execution_count": 45
    }
   ],
   "source": [
    "# 模型训练\n",
    "adas = AdaBoostRegressor()\n",
    "# 如果数据中有多支股票，可以筛选出来\n",
    "# ada.fit(X_train_selected.loc[stock], y_train.loc[stock])\n",
    "adas.fit(X_train_selected, y_train)"
   ],
   "metadata": {
    "collapsed": false,
    "pycharm": {
     "name": "#%%\n",
     "is_executing": false
    }
   }
  },
  {
   "cell_type": "code",
   "execution_count": null,
   "outputs": [],
   "source": [
    "# 6. 预测"
   ],
   "metadata": {
    "collapsed": false,
    "pycharm": {
     "name": "#%%\n"
    }
   }
  },
  {
   "cell_type": "code",
   "execution_count": 46,
   "outputs": [
    {
     "name": "stdout",
     "text": [
      "y_pred Symbols  last_date \n",
      "中国平安     2023-01-03    115.630000\n",
      "         2023-01-04    113.519091\n",
      "         2023-01-05    113.680649\n",
      "         2023-01-06    113.747174\n",
      "         2023-01-09    113.722895\n",
      "         2023-01-10    114.695641\n",
      "         2023-01-11    113.747174\n",
      "         2023-01-12    114.496866\n",
      "         2023-01-13    117.075217\n",
      "         2023-01-16    117.075217\n",
      "         2023-01-17    117.959091\n",
      "         2023-01-18    119.612500\n",
      "         2023-01-19    119.786129\n",
      "         2023-01-20    119.002500\n",
      "         2023-01-30    119.612500\n",
      "         2023-01-31    119.786129\n",
      "         2023-02-01    119.456667\n",
      "         2023-02-02    119.889394\n",
      "         2023-02-03    121.251622\n",
      "         2023-02-06    123.290000\n",
      "         2023-02-07    124.037500\n",
      "         2023-02-08    123.131481\n",
      "         2023-02-09    123.131481\n",
      "         2023-02-10    121.928537\n",
      "         2023-02-13    121.928537\n",
      "         2023-02-14    121.928537\n",
      "         2023-02-15    121.773333\n",
      "         2023-02-16    120.492456\n",
      "         2023-02-17    119.981667\n",
      "         2023-02-20    119.353810\n",
      "         2023-02-21    117.655833\n",
      "         2023-02-22    113.722895\n",
      "         2023-02-23    113.608507\n",
      "         2023-02-24    116.830000\n",
      "dtype: float64\n"
     ],
     "output_type": "stream"
    }
   ],
   "source": [
    "# 预测\n",
    "# 特征选择\n",
    "X_test_selected = X_test[X_train_selected.columns]\n",
    "\n",
    "# 如果多支股票，使用如下注释代码\n",
    "# y_pred = pd.concat({\n",
    "#     stock: pd.Series(adas[stock].predict(X_test_selected.loc[stock]), index=X_test_selected.loc[stock].index)\n",
    "#     for stock in adas.keys()\n",
    "# })\n",
    "y_pred = pd.Series(adas.predict(X_test_selected), index=X_test_selected.index)\n",
    "y_pred.index.names = [\"Symbols\", \"last_date\"]\n",
    "print('y_pred', y_pred)"
   ],
   "metadata": {
    "collapsed": false,
    "pycharm": {
     "name": "#%%\n",
     "is_executing": false
    }
   }
  },
  {
   "cell_type": "code",
   "execution_count": 52,
   "outputs": [
    {
     "data": {
      "text/plain": "<AxesSubplot:xlabel='Symbols,last_date'>"
     },
     "metadata": {},
     "output_type": "execute_result",
     "execution_count": 52
    },
    {
     "data": {
      "text/plain": "<Figure size 1080x432 with 1 Axes>",
      "image/png": "[encoded data removed]"
     },
     "metadata": {
      "needs_background": "light"
     },
     "output_type": "display_data"
    }
   ],
   "source": [
    "plt.figure(figsize=(15, 6))\n",
    "\n",
    "y_test.plot(ax=plt.gca())\n",
    "y_pred.plot(ax=plt.gca(), legend=None, marker=\".\")"
   ],
   "metadata": {
    "collapsed": false,
    "pycharm": {
     "name": "#%%\n",
     "is_executing": false
    }
   }
  },
  {
   "cell_type": "markdown",
   "source": [
    "# 参考\n",
    "[1] [ML]tsfresh:时序数据特征自动提取工具, https://mp.weixin.qq.com/s/Pi5YIW2ywLbdoVkwZl0nVQ\n",
    "[2] 时间序列学习 经典案例（1）【tsfresh】预测多只股票, https://blog.csdn.net/qq_42658739/article/details/122425952"
   ],
   "metadata": {
    "collapsed": false
   }
  }
 ],
 "metadata": {
  "kernelspec": {
   "name": "pycharm-3ea5732f",
   "language": "python",
   "display_name": "PyCharm (ai_quant_trade)"
  },
  "language_info": {
   "codemirror_mode": {
    "name": "ipython",
    "version": 2
   },
   "file_extension": ".py",
   "mimetype": "text/x-python",
   "name": "python",
   "nbconvert_exporter": "python",
   "pygments_lexer": "ipython2",
   "version": "2.7.6"
  },
  "pycharm": {
   "stem_cell": {
    "cell_type": "raw",
    "source": [],
    "metadata": {
     "collapsed": false
    }
   }
  }
 },
 "nbformat": 4,
 "nbformat_minor": 0
}