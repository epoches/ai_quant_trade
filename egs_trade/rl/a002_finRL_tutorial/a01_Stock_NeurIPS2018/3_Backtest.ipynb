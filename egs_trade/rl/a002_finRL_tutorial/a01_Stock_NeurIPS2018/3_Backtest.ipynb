{
 "nbformat": 4,
 "nbformat_minor": 0,
 "metadata": {
  "colab": {
   "provenance": []
  },
  "kernelspec": {
   "name": "pycharm-3ea5732f",
   "language": "python",
   "display_name": "PyCharm (ai_quant_trade)"
  },
  "language_info": {
   "name": "python"
  },
  "pycharm": {
   "stem_cell": {
    "cell_type": "raw",
    "source": [],
    "metadata": {
     "collapsed": false
    }
   }
  }
 },
 "cells": [
  {
   "cell_type": "markdown",
   "source": [
    "# 1. 安装依赖包，导入头文件"
   ],
   "metadata": {
    "id": "1oWbj4HgqHBg"
   }
  },
  {
   "cell_type": "code",
   "execution_count": 61,
   "metadata": {
    "id": "QJgoEYx3p_NG",
    "pycharm": {
     "is_executing": false
    }
   },
   "outputs": [],
   "source": [
    "# 如果没有安装，解注释进行安装\n",
    "# !pip install -r requirements.txt\n",
    "\n",
    "## 请把下面解注释，安装finrl库\n",
    "# 或者把如下Github仓中的finrl文件夹考到根目录即可使用\n",
    "##!pip install git+https://github.com/AI4Finance-Foundation/FinRL.git\n",
    "\n",
    "# 强化学习库，使用stable_baselines3"
   ]
  },
  {
   "cell_type": "code",
   "source": [
    "import pandas as pd\n",
    "import numpy as np\n",
    "import matplotlib.pyplot as plt\n",
    "import datetime\n",
    "\n",
    "from finrl.meta.preprocessor.preprocessors import FeatureEngineer, data_split\n",
    "from finrl.meta.env_stock_trading.env_stocktrading import StockTradingEnv\n",
    "from finrl.agents.stablebaselines3.models import DRLAgent\n",
    "from stable_baselines3.common.logger import configure\n",
    "from finrl.meta.data_processor import DataProcessor\n",
    "from stable_baselines3 import A2C, DDPG, PPO, SAC, TD3\n",
    "\n",
    "%matplotlib inline\n",
    "from finrl.plot import backtest_stats, backtest_plot, get_daily_return, get_baseline\n",
    "from pprint import pprint"
   ],
   "metadata": {
    "id": "mqfBOKz-qJYF",
    "pycharm": {
     "is_executing": false
    }
   },
   "execution_count": 91,
   "outputs": []
  },
  {
   "cell_type": "code",
   "source": [
    "from finrl import config  # 包含各类超参\n",
    "from finrl import config_tickers  # 常见各类市场股票代码集合，比如中证300\n",
    "import os\n",
    "from finrl.main import check_and_make_directories\n",
    "from finrl.config import (\n",
    "    DATA_SAVE_DIR,\n",
    "    TRAINED_MODEL_DIR,\n",
    "    TENSORBOARD_LOG_DIR,\n",
    "    RESULTS_DIR,\n",
    "    INDICATORS,\n",
    "    TRAIN_START_DATE,\n",
    "    TRAIN_END_DATE,\n",
    "    TEST_START_DATE,\n",
    "    TEST_END_DATE,\n",
    "    # TRADE_START_DATE,\n",
    "    # TRADE_END_DATE,\n",
    ")\n",
    "# 创建目录\n",
    "check_and_make_directories([TRAINED_MODEL_DIR, TENSORBOARD_LOG_DIR, RESULTS_DIR])"
   ],
   "metadata": {
    "id": "kyv8fz5rqM7H",
    "pycharm": {
     "is_executing": false
    }
   },
   "execution_count": 63,
   "outputs": []
  },
  {
   "cell_type": "markdown",
   "source": [
    "# 2. 查看和加载数据"
   ],
   "metadata": {
    "id": "mUF2P4hmqVjh"
   }
  },
  {
   "cell_type": "code",
   "source": [
    "# 读取训练数据，所有股票均混在了一个csv表里，格式如下\n",
    "# 索引     日期          股票\n",
    "#  0      2009-01-02    苹果\n",
    "#  0      2009-01-02    亚马逊\n",
    "#  1      2009-01-05    苹果\n",
    "#  1      2009-01-05    亚马逊\n",
    "\n",
    "# 注意：必须保持上述该格式，同样的索引下至少有2个数据，否则会报错，\n",
    "# 原因：\n",
    "#   1. 在finrl/meta/env_stock_trading/env_stocktrading.py的\n",
    "#      _initiate_state函数中self.data.close.values.tolist()，\n",
    "#      在404行，要求self.data.close必须是二维数组\n",
    "#   2. 而finrl/meta/env_stock_trading/env_stocktrading.py的\n",
    "#      __init__的64行self.data = self.df.loc[self.day, :]，\n",
    "#      如果索引顺序排，0，1，2。。。，会导致只取到一个行数，一维\n",
    "#      数据传入导致第1点中所述的问题\n",
    "#      （因此，如果只有一支股票时，需要把索引全部改成一样的，当然\n",
    "#      这种情况几乎不存在，也可以暂时忽略）\n",
    "# 解决方法：\n",
    "# 1. 降低numpy版本\n",
    "# 2. 把数据改成二维的，即（10，）-》（1，10） （改完是否存在回测不完整性，没有详细验证）\n",
    "# 3. 保持最上方所示的数据格式（推荐）\n",
    "\n",
    "TRADE_START_DATE = '2020-07-01'\n",
    "TRADE_END_DATE = '2021-10-29'\n",
    "\n",
    "processed_full = pd.read_csv(os.path.join(DATA_SAVE_DIR, 'full_data.csv'))\n",
    "\n",
    "train = pd.read_csv(os.path.join(DATA_SAVE_DIR, 'train_data.csv'))\n",
    "trade = pd.read_csv(os.path.join(DATA_SAVE_DIR, 'trade_data.csv'))\n",
    "\n",
    "train = train.set_index(train.columns[0])\n",
    "train.index.names = ['']\n",
    "assert train.shape[0] > 1, '数据必须至少包含2行，即2天以上'\n",
    "\n",
    "trade = trade.set_index(trade.columns[0]) # 第一列为索引\n",
    "trade.index.names = ['']\n",
    "assert trade.shape[0] > 1, '数据必须至少包含2行，即2天以上'"
   ],
   "metadata": {
    "id": "5huEX7kqqflJ",
    "pycharm": {
     "is_executing": false
    }
   },
   "execution_count": 64,
   "outputs": []
  },
  {
   "cell_type": "markdown",
   "metadata": {
    "id": "bEv5KGC8h1jE"
   },
   "source": [
    "### 设置波动率阈值\n",
    "- 设置波动率阈值 > 样本内波动最大值的日期。\n",
    "- 如果当前的波动指数 > 阈值，我们认为当前市场波动性大"
   ]
  },
  {
   "cell_type": "code",
   "execution_count": 65,
   "metadata": {
    "id": "efwBi84ch1jE",
    "pycharm": {
     "is_executing": false
    }
   },
   "outputs": [],
   "source": [
    "data_risk_indicator = processed_full[(processed_full.date<TRAIN_END_DATE) & (processed_full.date>=TRAIN_START_DATE)]\n",
    "insample_risk_indicator = data_risk_indicator.drop_duplicates(subset=['date'])  # 去重，仅保留一支股票\n",
    "pass"
   ]
  },
  {
   "cell_type": "code",
   "execution_count": 66,
   "metadata": {
    "id": "VHZMBpSqh1jG",
    "colab": {
     "base_uri": "https://localhost:8080/"
    },
    "outputId": "cb21619c-9da0-48c5-e423-82491774aad9",
    "pycharm": {
     "is_executing": false
    }
   },
   "outputs": [
    {
     "data": {
      "text/plain": "count    1654.000000\nmean       16.473337\nstd         7.673456\nmin         9.140000\n25%        12.420000\n50%        14.210000\n75%        17.565000\nmax        82.690002\nName: vix, dtype: float64"
     },
     "metadata": {},
     "output_type": "execute_result",
     "execution_count": 66
    }
   ],
   "source": [
    "# 查看因子中的波动率 （vix是下载下来的数据）\n",
    "\n",
    "# 波动率解释查看：https://spglobal.com/spdji/zh/vix-intro/\n",
    "\n",
    "# 芝加哥期权交易所(Cboe) 波动率指数（简称VIX），用于预测美国股市在不久的将来可能高于\n",
    "# 和低于其当前水平的波动范围。具体而言，VIX 衡量标普 500®指数 (SPX)未来 30 天的隐含波动率。\n",
    "# 当隐含波动率处于高水平时，VIX数值会相应地提高，可能值范围亦较为宽阔。\n",
    "# 当隐含波动率处于低水平时，则 VIX数值会相应降低，可能值范围亦较为狭窄。\n",
    "\n",
    "# 由于股市最不稳定时VIX会升至最高水平，所以媒体倾向将 VIX称为恐慌指标。\n",
    "# 这名称正好反映VIX如何衡量市场情绪，尤其是市场的担忧虑情绪。\n",
    "\n",
    "insample_risk_indicator.vix.describe()"
   ]
  },
  {
   "cell_type": "code",
   "execution_count": 67,
   "metadata": {
    "id": "BDkszkMloRWT",
    "colab": {
     "base_uri": "https://localhost:8080/"
    },
    "outputId": "974ce481-5dd3-48dd-c707-7d42cfeb4453",
    "pycharm": {
     "is_executing": false
    }
   },
   "outputs": [
    {
     "data": {
      "text/plain": "64.56692082214343"
     },
     "metadata": {},
     "output_type": "execute_result",
     "execution_count": 67
    }
   ],
   "source": [
    "insample_risk_indicator.vix.quantile(0.996)"
   ]
  },
  {
   "cell_type": "code",
   "execution_count": 68,
   "metadata": {
    "id": "AL7hs7svnNWT",
    "colab": {
     "base_uri": "https://localhost:8080/"
    },
    "outputId": "d67c4027-e811-4b7d-dbee-729d4c78ebae",
    "pycharm": {
     "is_executing": false
    }
   },
   "outputs": [
    {
     "data": {
      "text/plain": "count    1654.000000\nmean       40.860017\nstd        51.973844\nmin         2.490455\n25%        17.299122\n50%        26.440174\n75%        44.575623\nmax       652.507328\nName: turbulence, dtype: float64"
     },
     "metadata": {},
     "output_type": "execute_result",
     "execution_count": 68
    }
   ],
   "source": [
    "# 查看动荡指数 （通过finRL库进行计算得到）\n",
    "# 参考资料：\n",
    "#  https://portfoliooptimizer.io/blog/the-turbulence-index-measuring-financial-risk/\n",
    "#  https://blog.csdn.net/weixin_38754123/article/details/124358040\n",
    "\n",
    "# 动荡指数（The Turbulence Index）是衡量统计异常程度的指标，它既考虑了回报率的大小，\n",
    "# 也考虑了它们之间的相互作用。\n",
    "\n",
    "# 动荡指数量化了给定资产范围内异常行为的程度。其背后的解释是，资产回报率、\n",
    "# 波动性和相关性，它们与历史正常状态的差异越大，就越有可能是某个重大市场事件造成的，\n",
    "# 而不是随机噪声。\n",
    "\n",
    "insample_risk_indicator.turbulence.describe()"
   ]
  },
  {
   "cell_type": "code",
   "execution_count": 69,
   "metadata": {
    "id": "N78hfHckoqJ9",
    "colab": {
     "base_uri": "https://localhost:8080/"
    },
    "outputId": "051a7880-9702-4110-a801-33b0b0df3cd4",
    "pycharm": {
     "is_executing": false
    }
   },
   "outputs": [
    {
     "data": {
      "text/plain": "426.47786559550553"
     },
     "metadata": {},
     "output_type": "execute_result",
     "execution_count": 69
    }
   ],
   "source": [
    "# 分位数（Quantile），亦称分位点，是指将一个随机变量的概率分布范围分为几个等份的数值点，\n",
    "# 常用的有中位数（即二分位数）、四分位数、百分位数等\n",
    "insample_risk_indicator.turbulence.quantile(0.996)"
   ]
  },
  {
   "cell_type": "markdown",
   "source": [
    "# 3. 回测\n",
    "## 3.1 强化学习回测"
   ],
   "metadata": {
    "id": "qu4Ey54b36oL"
   }
  },
  {
   "cell_type": "code",
   "source": [
    "# 选择使用的强化学习策略\n",
    "if_using_a2c = True\n",
    "if_using_ddpg = False\n",
    "if_using_ppo = False\n",
    "if_using_td3 = False\n",
    "if_using_sac = True\n",
    "\n",
    "# 加载模型\n",
    "trained_a2c = A2C.load(os.path.join(TRAINED_MODEL_DIR, 'a2c', \"agent_a2c.zip\")) if if_using_a2c else None\n",
    "trained_ddpg = DDPG.load(os.path.join(TRAINED_MODEL_DIR, 'ddpg', \"agent_ddpg.zip\")) if if_using_ddpg else None\n",
    "trained_ppo = PPO.load(os.path.join(TRAINED_MODEL_DIR, 'ppo', \"agent_ppo.zip\")) if if_using_ppo else None\n",
    "trained_td3 = TD3.load(os.path.join(TRAINED_MODEL_DIR, 'td3', \"agent_td3.zip\")) if if_using_td3 else None\n",
    "trained_sac = SAC.load(os.path.join(TRAINED_MODEL_DIR, 'sac', \"agent_sac.zip\")) if if_using_sac else None"
   ],
   "metadata": {
    "id": "6CagrX0I36ZN",
    "pycharm": {
     "is_executing": false
    }
   },
   "execution_count": 70,
   "outputs": [
    {
     "name": "stderr",
     "text": [
      "D:\\ProgramFiles\\anaconda3\\lib\\site-packages\\stable_baselines3\\common\\save_util.py:166: UserWarning: Could not deserialize object lr_schedule. Consider using `custom_objects` argument to replace this object.\n",
      "Exception: Can't get attribute '_make_function' on <module 'cloudpickle.cloudpickle' from 'D:\\\\ProgramFiles\\\\anaconda3\\\\lib\\\\site-packages\\\\cloudpickle\\\\cloudpickle.py'>\n",
      "  warnings.warn(\n"
     ],
     "output_type": "stream"
    }
   ]
  },
  {
   "cell_type": "markdown",
   "metadata": {
    "id": "U5mmgQF_h1jQ"
   },
   "source": [
    "交易（集外性能验证）\n",
    "- 周期性更新以利用好数据，比如，每季度、每月、或每周重新训练模型，并进行调参优化\n",
    "- 在这个notebook中，使用2009-01到2020-07的数据调参，因此一些因子随着时间衰减\n",
    "- 大量的超参影响学习过程，同时决定了测试的性能"
   ]
  },
  {
   "cell_type": "code",
   "source": [
    "# 共29支股票，状态空间291\n",
    "stock_dimension = len(trade.tic.unique())\n",
    "# 状态说明\n",
    "# 1：账户余额\n",
    "# [1: stock_dimension+1]: 股票价格\n",
    "# [stock_dimension+1: 1 + 2*stock_dimension]: 持仓数量\n",
    "# len(INDICATORS)*stock_dimension：每支股票的因子状态，bool型表示\n",
    "state_space = 1 + 2*stock_dimension + len(INDICATORS)*stock_dimension\n",
    "print(f\"Stock Dimension: {stock_dimension}, State Space: {state_space}\")"
   ],
   "metadata": {
    "colab": {
     "base_uri": "https://localhost:8080/"
    },
    "id": "4H_w3SaBAkKU",
    "outputId": "5d77ffb1-e995-4224-e9d4-36f4fe000b18",
    "pycharm": {
     "is_executing": false
    }
   },
   "execution_count": 71,
   "outputs": [
    {
     "name": "stdout",
     "text": [
      "Stock Dimension: 29, State Space: 291\n"
     ],
     "output_type": "stream"
    }
   ]
  },
  {
   "cell_type": "code",
   "source": [
    "buy_cost_list = sell_cost_list = [0.001] * stock_dimension  # 交易手续费\n",
    "num_stock_shares = [0] * stock_dimension\n",
    "\n",
    "env_kwargs = {\n",
    "    \"hmax\": 100,  # actions initially is scaled between 0 to 1\n",
    "    \"initial_amount\": 1000000,\n",
    "    \"num_stock_shares\": num_stock_shares,\n",
    "    \"buy_cost_pct\": buy_cost_list,\n",
    "    \"sell_cost_pct\": sell_cost_list,\n",
    "    \"state_space\": state_space,\n",
    "    \"stock_dim\": stock_dimension,\n",
    "    \"tech_indicator_list\": INDICATORS,\n",
    "    \"action_space\": stock_dimension,\n",
    "    \"reward_scaling\": 1e-4\n",
    "}"
   ],
   "metadata": {
    "id": "nKNmQMqGAknW",
    "pycharm": {
     "is_executing": false
    }
   },
   "execution_count": 72,
   "outputs": []
  },
  {
   "cell_type": "code",
   "execution_count": 73,
   "metadata": {
    "id": "cIqoV0GSI52v",
    "pycharm": {
     "is_executing": false
    }
   },
   "outputs": [],
   "source": [
    "# todo: ? 训练和测试不一致：测试中引入了波动率及阈值\n",
    "e_trade_gym = StockTradingEnv(df = trade, turbulence_threshold = 70,risk_indicator_col='vix', **env_kwargs)\n",
    "# env_trade, obs_trade = e_trade_gym.get_sb_env()"
   ]
  },
  {
   "cell_type": "code",
   "source": [
    "df_account_value_a2c, df_actions_a2c = DRLAgent.DRL_prediction(\n",
    "    model=trained_a2c, \n",
    "    environment = e_trade_gym) if if_using_a2c else (None, None)"
   ],
   "metadata": {
    "id": "lbFchno5j3xs",
    "pycharm": {
     "is_executing": false
    }
   },
   "execution_count": 74,
   "outputs": [
    {
     "name": "stdout",
     "text": [
      "hit end!\n"
     ],
     "output_type": "stream"
    }
   ]
  },
  {
   "cell_type": "code",
   "source": [
    "df_account_value_ddpg, df_actions_ddpg = DRLAgent.DRL_prediction(\n",
    "    model=trained_ddpg, \n",
    "    environment = e_trade_gym) if if_using_ddpg else (None, None)"
   ],
   "metadata": {
    "id": "JbYljWGjj3pH",
    "pycharm": {
     "is_executing": false
    }
   },
   "execution_count": 75,
   "outputs": []
  },
  {
   "cell_type": "code",
   "source": [
    "df_account_value_ppo, df_actions_ppo = DRLAgent.DRL_prediction(\n",
    "    model=trained_ppo, \n",
    "    environment = e_trade_gym) if if_using_ppo else (None, None)"
   ],
   "metadata": {
    "id": "74jNP2DBj3hb",
    "pycharm": {
     "is_executing": false
    }
   },
   "execution_count": 76,
   "outputs": []
  },
  {
   "cell_type": "code",
   "source": [
    "df_account_value_td3, df_actions_td3 = DRLAgent.DRL_prediction(\n",
    "    model=trained_td3, \n",
    "    environment = e_trade_gym) if if_using_td3 else (None, None)"
   ],
   "metadata": {
    "id": "S7VyGGJPj3SH",
    "pycharm": {
     "is_executing": false
    }
   },
   "execution_count": 77,
   "outputs": []
  },
  {
   "cell_type": "code",
   "execution_count": 78,
   "metadata": {
    "id": "eLOnL5eYh1jR",
    "colab": {
     "base_uri": "https://localhost:8080/"
    },
    "outputId": "70e50e24-aed5-49f9-cdd7-de6b9689d9ce",
    "pycharm": {
     "is_executing": false
    }
   },
   "outputs": [
    {
     "name": "stdout",
     "text": [
      "hit end!\n"
     ],
     "output_type": "stream"
    }
   ],
   "source": [
    "df_account_value_sac, df_actions_sac = DRLAgent.DRL_prediction(\n",
    "    model=trained_sac, \n",
    "    environment = e_trade_gym) if if_using_sac else (None, None)"
   ]
  },
  {
   "cell_type": "markdown",
   "metadata": {
    "id": "GcE-t08w6DaW"
   },
   "source": [
    "## 3.2 对比基线：最大化均值方差\n",
    "\n",
    "- 作者：Dr G A Vijayalakshmi Pai\n",
    "- 参考代码：https://www.kaggle.com/code/vijipai/lesson-5-mean-variance-optimization-of-portfolios/notebook\n",
    "\n",
    "最大化均值方差（Mean Variance optimization）是一个非常经典的投资组合管理策略。"
   ]
  },
  {
   "cell_type": "code",
   "source": [
    "# 处理mvo表\n",
    "def process_df_for_mvo(df):\n",
    "    df = df.sort_values(['date','tic'],ignore_index=True)[['date','tic','close']]\n",
    "    fst = df\n",
    "    fst = fst.iloc[0:stock_dimension, :]  # 取交易日第1天的29支股票\n",
    "    tic = fst['tic'].tolist()  # 获取股票列表\n",
    "    \n",
    "    mvo = pd.DataFrame()\n",
    "    \n",
    "    # 初始化每个股票的mvo值为0\n",
    "    for k in range(len(tic)):\n",
    "        mvo[tic[k]] = 0\n",
    "    \n",
    "    # 按交易日，一天一天遍历，每次取29支股票\n",
    "    # 生成列表，列是29值股票，行索引是日期，填充是收盘价\n",
    "    for i in range(df.shape[0]//stock_dimension):\n",
    "        n = df\n",
    "        n = n.iloc[i * stock_dimension:(i+1) * stock_dimension, :]\n",
    "        date = n['date'][i*stock_dimension]\n",
    "        mvo.loc[date] = n['close'].tolist()\n",
    "    \n",
    "    return mvo\n",
    "\n",
    "\n",
    "# 平均收益率与方差-协方差矩阵\n",
    "def StockReturnsComputing(StockPrice, Rows, Columns): \n",
    "    import numpy as np \n",
    "    StockReturn = np.zeros([Rows-1, Columns]) \n",
    "    for j in range(Columns):        # j: Assets \n",
    "        for i in range(Rows-1):     # i: Daily Prices \n",
    "            # 通过前后2天的差值计算收益\n",
    "            StockReturn[i,j]=((StockPrice[i+1, j]-StockPrice[i,j])/StockPrice[i,j])* 100 \n",
    "      \n",
    "    return StockReturn"
   ],
   "metadata": {
    "id": "Sizh4M2sheoa",
    "pycharm": {
     "is_executing": false
    }
   },
   "execution_count": 79,
   "outputs": []
  },
  {
   "cell_type": "code",
   "source": [
    "# 计算均值方差权重\n",
    "StockData = process_df_for_mvo(train)\n",
    "TradeData = process_df_for_mvo(trade)\n",
    "\n",
    "TradeData.to_numpy()  # 即取消表头和索引\n"
   ],
   "metadata": {
    "id": "PcWquxuQ4_H5",
    "pycharm": {
     "name": "#%% \n",
     "is_executing": false
    }
   },
   "execution_count": 80,
   "outputs": [
    {
     "data": {
      "text/plain": "array([[ 89.495, 236.683,  91.078, ...,  47.767,  36.77 , 115.097],\n       [ 89.495, 239.578,  91.35 , ...,  47.872,  37.76 , 114.636],\n       [ 91.889, 237.732,  93.529, ...,  48.265,  38.821, 114.328],\n       ...,\n       [147.342, 199.597, 179.354, ...,  49.08 ,  46.593, 147.145],\n       [148.016, 200.606, 178.016, ...,  49.546,  45.732, 145.861],\n       [147.55 , 198.588, 175.143, ...,  49.126,  44.605, 144.664]])"
     },
     "metadata": {},
     "output_type": "execute_result",
     "execution_count": 80
    }
   ]
  },
  {
   "cell_type": "code",
   "execution_count": 81,
   "outputs": [
    {
     "name": "stdout",
     "text": [
      "Mean returns of assets in k-portfolio 1\n",
      " [0.136 0.068 0.086 0.083 0.066 0.134 0.06  0.035 0.072 0.056 0.103 0.073\n",
      " 0.033 0.076 0.047 0.073 0.042 0.056 0.054 0.056 0.103 0.089 0.041 0.053\n",
      " 0.104 0.11  0.044 0.042 0.042]\n",
      "Variance-Covariance matrix of returns\n",
      " [[3.156 1.066 1.768 1.669 1.722 1.814 1.569 1.302 1.302 1.811 1.303 1.432\n",
      "  1.218 1.674 0.74  1.839 0.719 0.884 1.241 0.823 1.561 1.324 0.752 1.027\n",
      "  1.298 1.466 0.657 1.078 0.631]\n",
      " [1.066 2.571 1.306 1.123 1.193 1.319 1.116 1.053 1.045 1.269 1.068 1.089\n",
      "  0.899 1.218 0.926 1.391 0.682 0.727 1.025 1.156 1.166 0.984 0.798 0.956\n",
      "  1.259 1.111 0.688 1.091 0.682]\n",
      " [1.768 1.306 4.847 2.73  2.6   2.128 1.944 2.141 2.17  3.142 1.932 2.283\n",
      "  1.56  2.012 0.993 3.707 1.094 1.319 1.845 1.236 1.899 1.894 1.041 1.921\n",
      "  1.823 2.314 0.986 1.421 0.707]\n",
      " [1.669 1.123 2.73  4.892 2.363 1.979 1.7   2.115 1.959 2.387 1.773 2.319\n",
      "  1.571 1.797 0.968 2.597 1.144 1.298 1.643 1.071 1.615 1.775 0.91  1.666\n",
      "  1.707 1.784 0.82  1.345 0.647]\n",
      " [1.722 1.193 2.6   2.363 4.019 2.127 1.917 2.059 1.817 2.46  1.577 2.238\n",
      "  1.513 1.929 0.925 2.64  0.947 0.971 1.894 1.089 1.711 1.642 0.865 1.456\n",
      "  1.478 1.687 0.92  1.326 0.697]\n",
      " [1.814 1.319 2.128 1.979 2.127 5.384 1.974 1.549 1.683 2.122 1.624 1.771\n",
      "  1.441 1.939 0.846 2.191 0.837 1.075 1.475 1.041 1.978 1.768 0.784 1.328\n",
      "  1.365 1.912 0.787 1.28  0.666]\n",
      " [1.569 1.116 1.944 1.7   1.917 1.974 3.081 1.483 1.534 1.937 1.367 1.62\n",
      "  1.399 1.843 0.894 2.057 0.794 0.905 1.438 1.014 1.72  1.382 0.865 1.206\n",
      "  1.273 1.488 0.811 1.173 0.753]\n",
      " [1.302 1.053 2.141 2.115 2.059 1.549 1.483 2.842 1.525 2.044 1.428 1.783\n",
      "  1.308 1.533 0.878 2.279 0.938 1.092 1.385 1.078 1.429 1.314 0.831 1.459\n",
      "  1.466 1.48  0.83  1.042 0.567]\n",
      " [1.302 1.045 2.17  1.959 1.817 1.683 1.534 1.525 2.661 1.987 1.454 1.748\n",
      "  1.217 1.475 0.791 2.216 0.896 0.973 1.396 0.949 1.379 1.407 0.859 1.268\n",
      "  1.281 1.454 0.81  1.143 0.667]\n",
      " [1.811 1.269 3.142 2.387 2.46  2.122 1.937 2.044 1.987 4.407 1.789 2.12\n",
      "  1.593 1.982 0.945 3.96  0.956 1.094 1.758 1.157 1.788 1.692 0.905 1.879\n",
      "  1.712 2.    0.945 1.421 0.713]\n",
      " [1.303 1.068 1.932 1.773 1.577 1.624 1.367 1.428 1.454 1.789 2.373 1.51\n",
      "  1.166 1.501 0.756 1.941 0.824 0.998 1.239 0.887 1.366 1.414 0.797 1.299\n",
      "  1.296 1.41  0.764 1.071 0.783]\n",
      " [1.432 1.089 2.283 2.319 2.238 1.771 1.62  1.783 1.748 2.12  1.51  2.516\n",
      "  1.326 1.575 0.889 2.345 0.958 1.022 1.623 1.02  1.489 1.532 0.848 1.377\n",
      "  1.444 1.547 0.81  1.211 0.63 ]\n",
      " [1.218 0.899 1.56  1.571 1.513 1.441 1.399 1.308 1.217 1.593 1.166 1.326\n",
      "  2.052 1.399 0.727 1.749 0.786 0.795 1.154 0.829 1.296 1.12  0.743 1.105\n",
      "  1.088 1.214 0.739 0.998 0.598]\n",
      " [1.674 1.218 2.012 1.797 1.929 1.939 1.843 1.533 1.475 1.982 1.501 1.575\n",
      "  1.399 3.289 0.853 2.112 0.85  0.89  1.412 1.002 1.9   1.352 0.842 1.317\n",
      "  1.334 1.487 0.847 1.165 0.766]\n",
      " [0.74  0.926 0.993 0.968 0.925 0.846 0.894 0.878 0.791 0.945 0.756 0.889\n",
      "  0.727 0.853 1.153 1.027 0.642 0.59  0.848 0.892 0.825 0.748 0.694 0.761\n",
      "  0.929 0.819 0.61  0.806 0.547]\n",
      " [1.839 1.391 3.707 2.597 2.64  2.191 2.057 2.279 2.216 3.96  1.941 2.345\n",
      "  1.749 2.112 1.027 5.271 1.08  1.235 1.892 1.297 1.91  1.85  1.068 2.164\n",
      "  1.85  2.169 1.112 1.555 0.779]\n",
      " [0.719 0.682 1.094 1.144 0.947 0.837 0.794 0.938 0.896 0.956 0.824 0.958\n",
      "  0.786 0.85  0.642 1.08  1.264 0.679 0.804 0.74  0.819 0.845 0.749 0.891\n",
      "  0.849 0.794 0.633 0.719 0.514]\n",
      " [0.884 0.727 1.319 1.298 0.971 1.075 0.905 1.092 0.973 1.094 0.998 1.022\n",
      "  0.795 0.89  0.59  1.235 0.679 1.518 0.816 0.719 0.943 1.027 0.615 1.\n",
      "  0.947 0.994 0.533 0.673 0.504]\n",
      " [1.241 1.025 1.845 1.643 1.894 1.475 1.438 1.385 1.396 1.758 1.239 1.623\n",
      "  1.154 1.412 0.848 1.892 0.804 0.816 2.028 0.9   1.265 1.243 0.787 1.194\n",
      "  1.193 1.282 0.752 1.099 0.622]\n",
      " [0.823 1.156 1.236 1.071 1.089 1.041 1.014 1.078 0.949 1.157 0.887 1.02\n",
      "  0.829 1.002 0.892 1.297 0.74  0.719 0.9   2.007 0.952 0.849 0.732 1.008\n",
      "  1.15  0.933 0.722 0.897 0.614]\n",
      " [1.561 1.166 1.899 1.615 1.711 1.978 1.72  1.429 1.379 1.788 1.366 1.489\n",
      "  1.296 1.9   0.825 1.91  0.819 0.943 1.265 0.952 2.759 1.308 0.832 1.214\n",
      "  1.285 1.493 0.793 1.113 0.705]\n",
      " [1.324 0.984 1.894 1.775 1.642 1.768 1.382 1.314 1.407 1.692 1.414 1.532\n",
      "  1.12  1.352 0.748 1.85  0.845 1.027 1.243 0.849 1.308 2.864 0.751 1.153\n",
      "  1.26  1.411 0.71  1.046 0.651]\n",
      " [0.752 0.798 1.041 0.91  0.865 0.784 0.865 0.831 0.859 0.905 0.797 0.848\n",
      "  0.743 0.842 0.694 1.068 0.749 0.615 0.787 0.732 0.832 0.751 1.289 0.806\n",
      "  0.766 0.763 0.663 0.797 0.645]\n",
      " [1.027 0.956 1.921 1.666 1.456 1.328 1.206 1.459 1.268 1.879 1.299 1.377\n",
      "  1.105 1.317 0.761 2.164 0.891 1.    1.194 1.008 1.214 1.153 0.806 2.27\n",
      "  1.259 1.294 0.812 0.986 0.676]\n",
      " [1.298 1.259 1.823 1.707 1.478 1.365 1.273 1.466 1.281 1.712 1.296 1.444\n",
      "  1.088 1.334 0.929 1.85  0.849 0.947 1.193 1.15  1.285 1.26  0.766 1.259\n",
      "  3.352 1.267 0.697 1.137 0.685]\n",
      " [1.466 1.111 2.314 1.784 1.687 1.912 1.488 1.48  1.454 2.    1.41  1.547\n",
      "  1.214 1.487 0.819 2.169 0.794 0.994 1.282 0.933 1.493 1.411 0.763 1.294\n",
      "  1.267 2.982 0.709 1.007 0.656]\n",
      " [0.657 0.688 0.986 0.82  0.92  0.787 0.811 0.83  0.81  0.945 0.764 0.81\n",
      "  0.739 0.847 0.61  1.112 0.633 0.533 0.752 0.722 0.793 0.71  0.663 0.812\n",
      "  0.697 0.709 1.371 0.697 0.561]\n",
      " [1.078 1.091 1.421 1.345 1.326 1.28  1.173 1.042 1.143 1.421 1.071 1.211\n",
      "  0.998 1.165 0.806 1.555 0.719 0.673 1.099 0.897 1.113 1.046 0.797 0.986\n",
      "  1.137 1.007 0.697 3.073 0.759]\n",
      " [0.631 0.682 0.707 0.647 0.697 0.666 0.753 0.567 0.667 0.713 0.783 0.63\n",
      "  0.598 0.766 0.547 0.779 0.514 0.504 0.622 0.614 0.705 0.651 0.645 0.676\n",
      "  0.685 0.656 0.561 0.759 1.452]]\n"
     ],
     "output_type": "stream"
    }
   ],
   "source": [
    "# 计算资产收益\n",
    "arStockPrices = np.asarray(StockData)  # 维度（2893， 29）\n",
    "[Rows, Cols]=arStockPrices.shape\n",
    "arReturns = StockReturnsComputing(arStockPrices, Rows, Cols)  # 维度（2893， 29）\n",
    "\n",
    "# 计算平均收益和收益的方差-协方差矩阵\n",
    "meanReturns = np.mean(arReturns, axis = 0)   # 维度（29）\n",
    "covReturns = np.cov(arReturns, rowvar=False)  # 维度（29， 29）\n",
    " \n",
    "# 设置打印保留的精度\n",
    "np.set_printoptions(precision=3, suppress = True)\n",
    "\n",
    "# 显示平均收益和收益的方差-协方差矩阵\n",
    "print('Mean returns of assets in k-portfolio 1\\n', meanReturns)\n",
    "print('Variance-Covariance matrix of returns\\n', covReturns)"
   ],
   "metadata": {
    "collapsed": false,
    "pycharm": {
     "name": "#%%\n",
     "is_executing": false
    }
   }
  },
  {
   "cell_type": "markdown",
   "source": [
    "使用 PyPortfolioOpt\n",
    "\n",
    "PyPortfolioOpt是一个实现投资组合优化方法的库，其中包括经典的均值方差优化技术和Black-Litterman\n",
    "资产配置模型，以及该领域的最新进展，例如收缩率shrinkage和层次风险平价模型\n",
    "Hierarchical Risk Parity，以及一些新颖的实验功能，例如指数加权协方差矩阵。\n",
    "\n",
    "马科维兹有效前沿(efficient_frontier)\n",
    "\n",
    "有效前沿亦称“有效边界”。理性的投资者一般是厌恶风险而偏好收益的，\n",
    "对于相同的风险水平，会选择能提供最大收益率的组合；对于相同的预期收益率，\n",
    "会选择风险最小的组合。能同时满足这些条件的投资组合就是有效前沿。\n",
    "\n",
    "“现代投资组合理论”（MPT）是1952年哈里.马克维茨在金融期刊上发表的名为\n",
    "“Portfolio Selection”的文章上提出的投资理论。\n",
    "\n",
    "虽然在一个投资组合的收益为所有股票收益的平均值/加权平均值，\n",
    "但这个投资组合的风险不等于投资组合里所有股票风险的平均值/加权平均值。\n",
    "风险就是指一个资产的变化情况，如果在你的投资组合里有多只股票，\n",
    "那么你就需要计算一下这些股票之间变化的相关性。多样性的好处在于，\n",
    "你可以通过优化资产配置，使得该投资组合的风险低于投资组合中风险最低的股票的风险。\n",
    "\n",
    "\n",
    "参考：https://blog.csdn.net/jirox/article/details/116406486"
   ],
   "metadata": {
    "id": "IeVVbuwveJ_5"
   }
  },
  {
   "cell_type": "code",
   "source": [
    "from pypfopt.efficient_frontier import EfficientFrontier\n",
    "\n",
    "# 计算马科维兹有效前沿，获取最大化均值方差\n",
    "ef_mean = EfficientFrontier(meanReturns, covReturns, weight_bounds=(0, 0.5))\n",
    "raw_weights_mean = ef_mean.max_sharpe()\n",
    "cleaned_weights_mean = ef_mean.clean_weights()\n",
    "# 初始资金乘以权重\n",
    "mvo_weights = np.array([1000000 * cleaned_weights_mean[i] for i in range(29)])\n",
    "mvo_weights"
   ],
   "metadata": {
    "id": "b1btTONEdCU4",
    "pycharm": {
     "is_executing": false
    }
   },
   "execution_count": 82,
   "outputs": [
    {
     "data": {
      "text/plain": "array([424250.,      0.,      0.,      0.,      0., 108650.,      0.,\n            0.,      0.,      0., 181450.,      0.,      0.,      0.,\n            0.,      0.,      0.,      0.,      0.,      0.,  16960.,\n            0.,      0.,      0., 133540., 135150.,      0.,      0.,\n            0.])"
     },
     "metadata": {},
     "output_type": "execute_result",
     "execution_count": 82
    }
   ]
  },
  {
   "cell_type": "code",
   "source": [
    "# 通过资金分配除以最后交易日的价格，获取初始持仓组合\n",
    "LastPrice = np.array([1/p for p in StockData.tail(1).to_numpy()[0]])\n",
    "Initial_Portfolio = np.multiply(mvo_weights, LastPrice)\n",
    "Initial_Portfolio"
   ],
   "metadata": {
    "id": "F38NJRJJgOmj",
    "colab": {
     "base_uri": "https://localhost:8080/"
    },
    "outputId": "e39c30b1-2367-4119-d07e-e1861ba04b19",
    "pycharm": {
     "is_executing": false
    }
   },
   "execution_count": 83,
   "outputs": [
    {
     "data": {
      "text/plain": "array([4731.544,    0.   ,    0.   ,    0.   ,    0.   ,  579.993,\n          0.   ,    0.   ,    0.   ,    0.   ,  766.21 ,    0.   ,\n          0.   ,    0.   ,    0.   ,    0.   ,    0.   ,    0.   ,\n          0.   ,    0.   ,   85.251,    0.   ,    0.   ,    0.   ,\n        468.596,  712.801,    0.   ,    0.   ,    0.   ])"
     },
     "metadata": {},
     "output_type": "execute_result",
     "execution_count": 83
    }
   ]
  },
  {
   "cell_type": "code",
   "source": [
    "# 它与numpy.dot（）的作用是一样的，矩阵乘法\n",
    "Portfolio_Assets = TradeData @ Initial_Portfolio\n",
    "# 获取每一交易日的总投资组合资产\n",
    "MVO_result = pd.DataFrame(Portfolio_Assets, columns=[\"Mean Var\"])\n",
    "MVO_result"
   ],
   "metadata": {
    "id": "ZAd1iXqZhQ6X",
    "colab": {
     "base_uri": "https://localhost:8080/"
    },
    "outputId": "8456d6c3-78d3-4e4c-cbc0-0c13fc56adef",
    "pycharm": {
     "is_executing": false
    }
   },
   "execution_count": 84,
   "outputs": [
    {
     "data": {
      "text/plain": "                Mean Var\n2020-07-01  1.001917e+06\n2020-07-02  1.004234e+06\n2020-07-06  1.023225e+06\n2020-07-07  1.014021e+06\n2020-07-08  1.029461e+06\n...                  ...\n2021-10-21  1.533022e+06\n2021-10-22  1.535667e+06\n2021-10-25  1.542077e+06\n2021-10-26  1.545514e+06\n2021-10-27  1.534916e+06\n\n[335 rows x 1 columns]",
      "text/html": "<div>\n<style scoped>\n    .dataframe tbody tr th:only-of-type {\n        vertical-align: middle;\n    }\n\n    .dataframe tbody tr th {\n        vertical-align: top;\n    }\n\n    .dataframe thead th {\n        text-align: right;\n    }\n</style>\n<table border=\"1\" class=\"dataframe\">\n  <thead>\n    <tr style=\"text-align: right;\">\n      <th></th>\n      <th>Mean Var</th>\n    </tr>\n  </thead>\n  <tbody>\n    <tr>\n      <th>2020-07-01</th>\n      <td>1.001917e+06</td>\n    </tr>\n    <tr>\n      <th>2020-07-02</th>\n      <td>1.004234e+06</td>\n    </tr>\n    <tr>\n      <th>2020-07-06</th>\n      <td>1.023225e+06</td>\n    </tr>\n    <tr>\n      <th>2020-07-07</th>\n      <td>1.014021e+06</td>\n    </tr>\n    <tr>\n      <th>2020-07-08</th>\n      <td>1.029461e+06</td>\n    </tr>\n    <tr>\n      <th>...</th>\n      <td>...</td>\n    </tr>\n    <tr>\n      <th>2021-10-21</th>\n      <td>1.533022e+06</td>\n    </tr>\n    <tr>\n      <th>2021-10-22</th>\n      <td>1.535667e+06</td>\n    </tr>\n    <tr>\n      <th>2021-10-25</th>\n      <td>1.542077e+06</td>\n    </tr>\n    <tr>\n      <th>2021-10-26</th>\n      <td>1.545514e+06</td>\n    </tr>\n    <tr>\n      <th>2021-10-27</th>\n      <td>1.534916e+06</td>\n    </tr>\n  </tbody>\n</table>\n<p>335 rows × 1 columns</p>\n</div>"
     },
     "metadata": {},
     "output_type": "execute_result",
     "execution_count": 84
    }
   ]
  },
  {
   "cell_type": "markdown",
   "source": [
    "## 3.3: 道琼斯指数(DJIA index)下载"
   ],
   "metadata": {
    "collapsed": false,
    "pycharm": {
     "name": "#%% md\n"
    }
   }
  },
  {
   "cell_type": "code",
   "execution_count": 85,
   "outputs": [],
   "source": [
    "# 由于国内无法使用YahooDownloader，暂时注释如下部分\n",
    "TRAIN_START_DATE = '2009-01-01'\n",
    "TRAIN_END_DATE = '2020-07-01'\n",
    "TRADE_START_DATE = '2020-07-01'\n",
    "TRADE_END_DATE = '2021-10-29'\n",
    "\n",
    "# from finrl.meta.preprocessor.yahoodownloader import YahooDownloader\n",
    "# df_dji = YahooDownloader(start_date = TRADE_START_DATE,\n",
    "#                      end_date = TRADE_END_DATE,\n",
    "#                      ticker_list = ['dji']).fetch_data()\n",
    "# \n",
    "# df_dji"
   ],
   "metadata": {
    "collapsed": false,
    "pycharm": {
     "name": "#%%\n",
     "is_executing": false
    }
   }
  },
  {
   "cell_type": "code",
   "execution_count": 86,
   "outputs": [],
   "source": [
    "# df_dji = df_dji[['date','close']]\n",
    "# fst_day = df_dji['close'][0]\n",
    "# dji = pd.merge(df_dji['date'], df_dji['close'].div(fst_day).mul(1000000), \n",
    "#                how='outer', left_index=True, right_index=True).set_index('date')\n",
    "# dji\n"
   ],
   "metadata": {
    "collapsed": false,
    "pycharm": {
     "name": "#%%\n",
     "is_executing": false
    }
   }
  },
  {
   "cell_type": "markdown",
   "metadata": {
    "id": "W6vvNSC6h1jZ"
   },
   "source": [
    "<a id='6'></a>\n",
    "# 4. 性能对比\n",
    "\n",
    "## 4.1 对比基线和强化学习\n",
    "\n",
    "使用Quantopian pyfolio工具进行回测\n",
    " "
   ]
  },
  {
   "cell_type": "code",
   "source": [
    "df_result_a2c = df_account_value_a2c.set_index(df_account_value_a2c.columns[0]) if if_using_a2c else None\n",
    "df_result_ddpg = df_account_value_ddpg.set_index(df_account_value_ddpg.columns[0]) if if_using_ddpg else None\n",
    "df_result_ppo = df_account_value_ppo.set_index(df_account_value_ppo.columns[0]) if if_using_ppo else None\n",
    "df_result_td3 = df_account_value_td3.set_index(df_account_value_td3.columns[0]) if if_using_td3 else None\n",
    "df_result_sac = df_account_value_sac.set_index(df_account_value_sac.columns[0]) if if_using_sac else None\n",
    "\n",
    "# 将强化学习和最大化均值方差结果合入一个表，进行对比\n",
    "result = pd.DataFrame()\n",
    "if if_using_a2c: result = pd.merge(result, df_result_a2c, how='outer', left_index=True, right_index=True)\n",
    "if if_using_ddpg: result = pd.merge(result, df_result_ddpg, how='outer', left_index=True, right_index=True)\n",
    "if if_using_ppo: result = pd.merge(result, df_result_ppo, how='outer', left_index=True, right_index=True)\n",
    "if if_using_td3: result = pd.merge(result, df_result_td3, how='outer', left_index=True, right_index=True)\n",
    "if if_using_sac: result = pd.merge(result, df_result_sac, how='outer', left_index=True, right_index=True)\n",
    "result = pd.merge(result, MVO_result, how='outer', left_index=True, right_index=True)\n",
    "# result = pd.merge(result, dji, how='outer', left_index=True, right_index=True).fillna(method='bfill')"
   ],
   "metadata": {
    "id": "KeDeGAc9VrEg",
    "pycharm": {
     "is_executing": false
    }
   },
   "execution_count": 87,
   "outputs": []
  },
  {
   "cell_type": "code",
   "source": [
    "# 修改列名\n",
    "col_name = []\n",
    "col_name.append('A2C') if if_using_a2c else None\n",
    "col_name.append('DDPG') if if_using_ddpg else None\n",
    "col_name.append('PPO') if if_using_ppo else None\n",
    "col_name.append('TD3') if if_using_td3 else None\n",
    "col_name.append('SAC') if if_using_sac else None\n",
    "col_name.append('Mean Var')\n",
    "# col_name.append('djia') \n",
    "result.columns = col_name"
   ],
   "metadata": {
    "id": "JvlTVQwsiMyx",
    "pycharm": {
     "is_executing": false
    }
   },
   "execution_count": 88,
   "outputs": []
  },
  {
   "cell_type": "code",
   "source": [
    "result"
   ],
   "metadata": {
    "id": "l4FZxyDt3XaE",
    "colab": {
     "base_uri": "https://localhost:8080/",
     "height": 455
    },
    "outputId": "bcbd724b-189b-4e99-d6fd-9a8bacde709d",
    "pycharm": {
     "is_executing": false
    }
   },
   "execution_count": 89,
   "outputs": [
    {
     "data": {
      "text/plain": "                     A2C           SAC      Mean Var\ndate                                                \n2020-07-01  1.000000e+06  1.000000e+06  1.001917e+06\n2020-07-02  1.000943e+06  1.000534e+06  1.004234e+06\n2020-07-06  1.006884e+06  1.006289e+06  1.023225e+06\n2020-07-07  9.960292e+05  9.979052e+05  1.014021e+06\n2020-07-08  1.001440e+06  1.001714e+06  1.029461e+06\n...                  ...           ...           ...\n2021-10-21  1.771517e+06  1.316362e+06  1.533022e+06\n2021-10-22  1.778274e+06  1.320957e+06  1.535667e+06\n2021-10-25  1.779493e+06  1.327333e+06  1.542077e+06\n2021-10-26  1.787692e+06  1.324652e+06  1.545514e+06\n2021-10-27  1.761977e+06  1.316038e+06  1.534916e+06\n\n[335 rows x 3 columns]",
      "text/html": "<div>\n<style scoped>\n    .dataframe tbody tr th:only-of-type {\n        vertical-align: middle;\n    }\n\n    .dataframe tbody tr th {\n        vertical-align: top;\n    }\n\n    .dataframe thead th {\n        text-align: right;\n    }\n</style>\n<table border=\"1\" class=\"dataframe\">\n  <thead>\n    <tr style=\"text-align: right;\">\n      <th></th>\n      <th>A2C</th>\n      <th>SAC</th>\n      <th>Mean Var</th>\n    </tr>\n    <tr>\n      <th>date</th>\n      <th></th>\n      <th></th>\n      <th></th>\n    </tr>\n  </thead>\n  <tbody>\n    <tr>\n      <th>2020-07-01</th>\n      <td>1.000000e+06</td>\n      <td>1.000000e+06</td>\n      <td>1.001917e+06</td>\n    </tr>\n    <tr>\n      <th>2020-07-02</th>\n      <td>1.000943e+06</td>\n      <td>1.000534e+06</td>\n      <td>1.004234e+06</td>\n    </tr>\n    <tr>\n      <th>2020-07-06</th>\n      <td>1.006884e+06</td>\n      <td>1.006289e+06</td>\n      <td>1.023225e+06</td>\n    </tr>\n    <tr>\n      <th>2020-07-07</th>\n      <td>9.960292e+05</td>\n      <td>9.979052e+05</td>\n      <td>1.014021e+06</td>\n    </tr>\n    <tr>\n      <th>2020-07-08</th>\n      <td>1.001440e+06</td>\n      <td>1.001714e+06</td>\n      <td>1.029461e+06</td>\n    </tr>\n    <tr>\n      <th>...</th>\n      <td>...</td>\n      <td>...</td>\n      <td>...</td>\n    </tr>\n    <tr>\n      <th>2021-10-21</th>\n      <td>1.771517e+06</td>\n      <td>1.316362e+06</td>\n      <td>1.533022e+06</td>\n    </tr>\n    <tr>\n      <th>2021-10-22</th>\n      <td>1.778274e+06</td>\n      <td>1.320957e+06</td>\n      <td>1.535667e+06</td>\n    </tr>\n    <tr>\n      <th>2021-10-25</th>\n      <td>1.779493e+06</td>\n      <td>1.327333e+06</td>\n      <td>1.542077e+06</td>\n    </tr>\n    <tr>\n      <th>2021-10-26</th>\n      <td>1.787692e+06</td>\n      <td>1.324652e+06</td>\n      <td>1.545514e+06</td>\n    </tr>\n    <tr>\n      <th>2021-10-27</th>\n      <td>1.761977e+06</td>\n      <td>1.316038e+06</td>\n      <td>1.534916e+06</td>\n    </tr>\n  </tbody>\n</table>\n<p>335 rows × 3 columns</p>\n</div>"
     },
     "metadata": {},
     "output_type": "execute_result",
     "execution_count": 89
    }
   ]
  },
  {
   "cell_type": "code",
   "source": [
    "# 绘图对比总资产变化\n",
    "plt.rcParams[\"figure.figsize\"] = (15,5)\n",
    "plt.figure()\n",
    "result.plot()"
   ],
   "metadata": {
    "id": "6xRfrqK4RVfq",
    "colab": {
     "base_uri": "https://localhost:8080/",
     "height": 381
    },
    "outputId": "fed27564-5097-4f04-cb78-ed3728794f95",
    "pycharm": {
     "is_executing": false
    }
   },
   "execution_count": 90,
   "outputs": [
    {
     "data": {
      "text/plain": "<AxesSubplot:xlabel='date'>"
     },
     "metadata": {},
     "output_type": "execute_result",
     "execution_count": 90
    },
    {
     "data": {
      "text/plain": "<Figure size 1080x360 with 0 Axes>"
     },
     "metadata": {},
     "output_type": "display_data"
    },
    {
     "data": {
      "text/plain": "<Figure size 1080x360 with 1 Axes>",
      "image/png": "[encoded data removed]"
     },
     "metadata": {
      "needs_background": "light"
     },
     "output_type": "display_data"
    }
   ]
  },
  {
   "cell_type": "markdown",
   "source": [
    "## 4.2 计算详细回测指标"
   ],
   "metadata": {
    "collapsed": false,
    "pycharm": {
     "name": "#%% md\n"
    }
   }
  },
  {
   "cell_type": "code",
   "execution_count": 103,
   "outputs": [
    {
     "name": "stdout",
     "text": [
      "==============Get Backtest Results===========\n",
      "\n",
      " a2c:\n",
      "Annual return          0.531267\n",
      "Cumulative returns     0.761977\n",
      "Annual volatility      0.207082\n",
      "Sharpe ratio           2.168219\n",
      "Calmar ratio           5.108832\n",
      "Stability              0.913644\n",
      "Max drawdown          -0.103990\n",
      "Omega ratio            1.434179\n",
      "Sortino ratio          3.603966\n",
      "Skew                        NaN\n",
      "Kurtosis                    NaN\n",
      "Tail ratio             1.140148\n",
      "Daily value at risk   -0.024308\n",
      "dtype: float64\n",
      "\n",
      " sac:\n",
      "Annual return          0.229471\n",
      "Cumulative returns     0.316038\n",
      "Annual volatility      0.135545\n",
      "Sharpe ratio           1.597028\n",
      "Calmar ratio           2.503250\n",
      "Stability              0.885632\n",
      "Max drawdown          -0.091669\n",
      "Omega ratio            1.300750\n",
      "Sortino ratio          2.291562\n",
      "Skew                        NaN\n",
      "Kurtosis                    NaN\n",
      "Tail ratio             1.029162\n",
      "Daily value at risk   -0.016218\n",
      "dtype: float64\n"
     ],
     "output_type": "stream"
    },
    {
     "name": "stderr",
     "text": [
      "D:\\ProgramFiles\\anaconda3\\lib\\site-packages\\pyfolio\\timeseries.py:724: FutureWarning: The default dtype for empty Series will be 'object' instead of 'float64' in a future version. Specify a dtype explicitly to silence this warning.\n",
      "  stats = pd.Series()\n",
      "D:\\ProgramFiles\\anaconda3\\lib\\site-packages\\pyfolio\\timeseries.py:724: FutureWarning: The default dtype for empty Series will be 'object' instead of 'float64' in a future version. Specify a dtype explicitly to silence this warning.\n",
      "  stats = pd.Series()\n"
     ],
     "output_type": "stream"
    }
   ],
   "source": [
    "print(\"==============Get Backtest Results===========\")\n",
    "now = datetime.datetime.now().strftime('%Y%m%d-%Hh%M')\n",
    "\n",
    "if if_using_ppo:\n",
    "  print(\"\\n ppo:\")\n",
    "  perf_stats_all_ppo = backtest_stats(account_value=df_account_value_ppo)\n",
    "  perf_stats_all_ppo = pd.DataFrame(perf_stats_all_ppo)\n",
    "  perf_stats_all_ppo.to_csv(\"./\"+config.RESULTS_DIR+\"/perf_stats_all_ppo_\"+now+'.csv')\n",
    "\n",
    "if if_using_ddpg:\n",
    "  print(\"\\n ddpg:\")\n",
    "  perf_stats_all_ddpg = backtest_stats(account_value=df_account_value_ddpg)\n",
    "  perf_stats_all_ddpg = pd.DataFrame(perf_stats_all_ddpg)\n",
    "  perf_stats_all_ddpg.to_csv(\"./\"+config.RESULTS_DIR+\"/perf_stats_all_ddpg_\"+now+'.csv')\n",
    "\n",
    "if if_using_a2c:\n",
    "  print(\"\\n a2c:\")\n",
    "  perf_stats_all_a2c = backtest_stats(account_value=df_account_value_a2c)\n",
    "  perf_stats_all_a2c = pd.DataFrame(perf_stats_all_a2c)\n",
    "  perf_stats_all_a2c.to_csv(\"./\"+config.RESULTS_DIR+\"/perf_stats_all_a2c_\"+now+'.csv')\n",
    "\n",
    "if if_using_td3:\n",
    "  print(\"\\n atd3:\")\n",
    "  perf_stats_all_td3 = backtest_stats(account_value=df_account_value_td3)\n",
    "  perf_stats_all_td3 = pd.DataFrame(perf_stats_all_td3)\n",
    "  perf_stats_all_td3.to_csv(\"./\"+config.RESULTS_DIR+\"/perf_stats_all_td3_\"+now+'.csv')\n",
    "\n",
    "if if_using_sac:\n",
    "  print(\"\\n sac:\")\n",
    "  perf_stats_all_sac = backtest_stats(account_value=df_account_value_sac)\n",
    "  perf_stats_all_sac = pd.DataFrame(perf_stats_all_sac)\n",
    "  perf_stats_all_sac.to_csv(\"./\"+config.RESULTS_DIR+\"/perf_stats_all_sac_\"+now+'.csv')\n",
    "  "
   ],
   "metadata": {
    "collapsed": false,
    "pycharm": {
     "name": "#%%\n",
     "is_executing": false
    }
   }
  },
  {
   "cell_type": "code",
   "execution_count": 96,
   "outputs": [],
   "source": [
    "# 由于无法下载道尔琼斯指数，暂时注释掉了如下代码\n",
    "#baseline stats\n",
    "# print(\"==============Compare to DJIA===========\")\n",
    "# %matplotlib inline\n",
    "# # S&P 500: ^GSPC\n",
    "# # Dow Jones Index: ^DJI\n",
    "# # NASDAQ 100: ^NDX\n",
    "# backtest_plot(df_account_value, \n",
    "#              baseline_ticker = '^DJI', \n",
    "#              baseline_start = df_account_value.loc[0,'date'],\n",
    "#              baseline_end = df_account_value.loc[len(df_account_value)-1,'date'])"
   ],
   "metadata": {
    "collapsed": false,
    "pycharm": {
     "name": "#%%\n",
     "is_executing": false
    }
   }
  },
  {
   "cell_type": "markdown",
   "source": [
    "## 4.3 回测绘图"
   ],
   "metadata": {
    "collapsed": false,
    "pycharm": {
     "name": "#%% md\n"
    }
   }
  },
  {
   "cell_type": "code",
   "execution_count": 96,
   "outputs": [],
   "source": [
    "# 由于无法下载道尔琼斯指数，暂时注释掉了如下代码\n",
    "# 获取详细和指数进行的统计对比报表以及分析图\n",
    "\n",
    "# print(\"==============Compare to DJIA===========\")\n",
    "# %matplotlib inline\n",
    "# # S&P 500: ^GSPC\n",
    "# # Dow Jones Index: ^DJI\n",
    "# # NASDAQ 100: ^NDX\n",
    "# \n",
    "# if if_using_ppo:\n",
    "#   backtest_plot(df_account_value_ppo, \n",
    "#               baseline_ticker = '^DJI', \n",
    "#               baseline_start = TEST_START_DATE,\n",
    "#               baseline_end = TEST_END_DATE)\n",
    "# \n",
    "# if if_using_ddpg:\n",
    "#   backtest_plot(df_account_value_ddpg, \n",
    "#               baseline_ticker = '^DJI', \n",
    "#               baseline_start = TEST_START_DATE,\n",
    "#               baseline_end = TEST_END_DATE)\n",
    "# \n",
    "# if if_using_a2c:\n",
    "#   backtest_plot(df_account_value_a2c, \n",
    "#               baseline_ticker = '^DJI', \n",
    "#               baseline_start = TEST_START_DATE,\n",
    "#               baseline_end = TEST_END_DATE)\n",
    "# \n",
    "# if if_using_td3:\n",
    "#   backtest_plot(df_account_value_td3, \n",
    "#               baseline_ticker = '^DJI', \n",
    "#               baseline_start = TEST_START_DATE,\n",
    "#               baseline_end = TEST_END_DATE)\n",
    "# \n",
    "# if if_using_sac:\n",
    "#   backtest_plot(df_account_value_sac, \n",
    "#               baseline_ticker = '^DJI', \n",
    "#               baseline_start = TEST_START_DATE,\n",
    "#               baseline_end = TEST_END_DATE)\n"
   ],
   "metadata": {
    "collapsed": false,
    "pycharm": {
     "name": "#%%\n",
     "is_executing": false
    }
   }
  }
 ]
}